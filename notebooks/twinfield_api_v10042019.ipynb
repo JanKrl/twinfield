{
 "cells": [
  {
   "cell_type": "markdown",
   "metadata": {},
   "source": [
    "<img src=\"https://static.wixstatic.com/media/a9ca5e_825bd4d39e7d468faf735b801fa3dea4~mv2.png/v1/fill/w_1458,h_246,al_c,usm_0.66_1.00_0.01/a9ca5e_825bd4d39e7d468faf735b801fa3dea4~mv2.png\" width=\"200\">"
   ]
  },
  {
   "cell_type": "markdown",
   "metadata": {},
   "source": [
    "# Twinfield api\n",
    " __Notebook voor het uitvragen van twinfield dataset__\n",
    " \n",
    " __Auteur:__ Melvin Folkers (Yellow Stacks B.V.)<br>\n",
    " __Doel:__ "
   ]
  },
  {
   "cell_type": "markdown",
   "metadata": {
    "toc": true
   },
   "source": [
    "<h1>Overzicht<span class=\"tocSkip\"></span></h1>\n",
    "<div class=\"toc\"><ul class=\"toc-item\"><li><span><a href=\"#parameters\" data-toc-modified-id=\"parameters-1\"><span class=\"toc-item-num\">1&nbsp;&nbsp;</span>parameters</a></span><ul class=\"toc-item\"><li><span><a href=\"#run-parameters\" data-toc-modified-id=\"run-parameters-1.1\"><span class=\"toc-item-num\">1.1&nbsp;&nbsp;</span>run parameters</a></span></li><li><span><a href=\"#import-libraries\" data-toc-modified-id=\"import-libraries-1.2\"><span class=\"toc-item-num\">1.2&nbsp;&nbsp;</span>import libraries</a></span></li><li><span><a href=\"#juno-settings\" data-toc-modified-id=\"juno-settings-1.3\"><span class=\"toc-item-num\">1.3&nbsp;&nbsp;</span>juno settings</a></span></li><li><span><a href=\"#functions\" data-toc-modified-id=\"functions-1.4\"><span class=\"toc-item-num\">1.4&nbsp;&nbsp;</span>functions</a></span></li></ul></li><li><span><a href=\"#Run-script\" data-toc-modified-id=\"Run-script-2\"><span class=\"toc-item-num\">2&nbsp;&nbsp;</span>Run script</a></span></li><li><span><a href=\"#Export\" data-toc-modified-id=\"Export-3\"><span class=\"toc-item-num\">3&nbsp;&nbsp;</span>Export</a></span></li></ul></div>"
   ]
  },
  {
   "cell_type": "markdown",
   "metadata": {},
   "source": [
    "## parameters"
   ]
  },
  {
   "cell_type": "markdown",
   "metadata": {},
   "source": [
    "### run parameters"
   ]
  },
  {
   "cell_type": "code",
   "execution_count": 1,
   "metadata": {
    "ExecuteTime": {
     "end_time": "2019-04-16T13:00:46.597897Z",
     "start_time": "2019-04-16T13:00:46.594136Z"
    }
   },
   "outputs": [],
   "source": [
    "user = 'Python'\n",
    "password = 'U3RhZmZpbmcyMDE5IQ==\\n'\n",
    "organisation = 'Associates'"
   ]
  },
  {
   "cell_type": "markdown",
   "metadata": {},
   "source": [
    "### import libraries"
   ]
  },
  {
   "cell_type": "code",
   "execution_count": 2,
   "metadata": {
    "ExecuteTime": {
     "end_time": "2019-04-16T13:00:47.315295Z",
     "start_time": "2019-04-16T13:00:46.600142Z"
    }
   },
   "outputs": [],
   "source": [
    "import os\n",
    "import pandas as pd"
   ]
  },
  {
   "cell_type": "code",
   "execution_count": 3,
   "metadata": {
    "ExecuteTime": {
     "end_time": "2019-04-16T13:00:47.534649Z",
     "start_time": "2019-04-16T13:00:47.318014Z"
    }
   },
   "outputs": [],
   "source": [
    "projectdir = os.getcwd()\n",
    "os.chdir('../')\n",
    "\n",
    "from  functions import SessionParameters\n",
    "from functions import get_metadata \n",
    "from modules import read_offices\n",
    "from pull_data import pull_transactions\n",
    "\n",
    "os.chdir(projectdir)"
   ]
  },
  {
   "cell_type": "markdown",
   "metadata": {},
   "source": [
    "### juno settings"
   ]
  },
  {
   "cell_type": "code",
   "execution_count": 4,
   "metadata": {
    "ExecuteTime": {
     "end_time": "2019-04-16T13:00:47.744777Z",
     "start_time": "2019-04-16T13:00:47.536556Z"
    }
   },
   "outputs": [
    {
     "data": {
      "text/html": [
       "<style>.container { width:80% !important; }</style>"
      ],
      "text/plain": [
       "<IPython.core.display.HTML object>"
      ]
     },
     "metadata": {},
     "output_type": "display_data"
    }
   ],
   "source": [
    "from IPython.core.display import display, HTML\n",
    "display(HTML(\"<style>.container { width:80% !important; }</style>\")) # maakt de jupyter notebook cellen 100% breed\n",
    "from IPython.display import IFrame\n",
    "%matplotlib inline \n",
    "# voor het plotten van grafieken\n",
    "\n",
    "from IPython.core.interactiveshell import InteractiveShell\n",
    "InteractiveShell.ast_node_interactivity = \"all\" # om meerdere grafieken/tabellen in 1 cel te kunnen laten zien.\n",
    "\n",
    "pd.options.display.max_columns = None # laat alle kolommen zien\n",
    "pd.options.display.float_format = '{:,.2f}'.format\n",
    "\n",
    "from IPython.display import Image\n",
    "from IPython.core.display import HTML \n",
    "\n"
   ]
  },
  {
   "cell_type": "markdown",
   "metadata": {},
   "source": [
    "### functions"
   ]
  },
  {
   "cell_type": "code",
   "execution_count": 5,
   "metadata": {
    "ExecuteTime": {
     "end_time": "2019-04-16T13:00:47.750306Z",
     "start_time": "2019-04-16T13:00:47.747751Z"
    }
   },
   "outputs": [],
   "source": [
    "from datetime import datetime"
   ]
  },
  {
   "cell_type": "code",
   "execution_count": 6,
   "metadata": {
    "ExecuteTime": {
     "end_time": "2019-04-16T13:00:47.755129Z",
     "start_time": "2019-04-16T13:00:47.752284Z"
    }
   },
   "outputs": [],
   "source": [
    "import logging"
   ]
  },
  {
   "cell_type": "markdown",
   "metadata": {},
   "source": [
    "## Run script"
   ]
  },
  {
   "cell_type": "code",
   "execution_count": 11,
   "metadata": {
    "ExecuteTime": {
     "end_time": "2019-04-16T15:29:27.805035Z",
     "start_time": "2019-04-16T15:29:27.316940Z"
    }
   },
   "outputs": [
    {
     "name": "stdout",
     "output_type": "stream",
     "text": [
      "session id: 93ec943b-008e-4837-be43-0932a975c98c\n"
     ]
    }
   ],
   "source": [
    "login = SessionParameters(user ='Python', pw = r'U3RhZmZpbmcyMDE5IQ==\\n', organisation = 'Associates')\n",
    "offices = read_offices(login)"
   ]
  },
  {
   "cell_type": "code",
   "execution_count": null,
   "metadata": {},
   "outputs": [],
   "source": []
  },
  {
   "cell_type": "code",
   "execution_count": 30,
   "metadata": {
    "ExecuteTime": {
     "end_time": "2019-04-16T21:45:52.616577Z",
     "start_time": "2019-04-16T21:45:52.592138Z"
    }
   },
   "outputs": [
    {
     "data": {
      "text/html": [
       "<div>\n",
       "<style scoped>\n",
       "    .dataframe tbody tr th:only-of-type {\n",
       "        vertical-align: middle;\n",
       "    }\n",
       "\n",
       "    .dataframe tbody tr th {\n",
       "        vertical-align: top;\n",
       "    }\n",
       "\n",
       "    .dataframe thead th {\n",
       "        text-align: right;\n",
       "    }\n",
       "</style>\n",
       "<table border=\"1\" class=\"dataframe\">\n",
       "  <thead>\n",
       "    <tr style=\"text-align: right;\">\n",
       "      <th></th>\n",
       "      <th>name</th>\n",
       "      <th>shortname</th>\n",
       "    </tr>\n",
       "  </thead>\n",
       "  <tbody>\n",
       "    <tr>\n",
       "      <th>1038632</th>\n",
       "      <td>Staffing Associates B.V.</td>\n",
       "      <td>SAS</td>\n",
       "    </tr>\n",
       "    <tr>\n",
       "      <th>1060253</th>\n",
       "      <td>BBB Dienstengroep B.V.</td>\n",
       "      <td>BBB</td>\n",
       "    </tr>\n",
       "    <tr>\n",
       "      <th>1060254</th>\n",
       "      <td>Career Factory Bemiddeling</td>\n",
       "      <td>CFB</td>\n",
       "    </tr>\n",
       "    <tr>\n",
       "      <th>1060255</th>\n",
       "      <td>Career Factory BV</td>\n",
       "      <td>CF</td>\n",
       "    </tr>\n",
       "    <tr>\n",
       "      <th>1060256</th>\n",
       "      <td>Carrière Bemiddeling BV</td>\n",
       "      <td>CAB</td>\n",
       "    </tr>\n",
       "    <tr>\n",
       "      <th>1060257</th>\n",
       "      <td>Carrière BV</td>\n",
       "      <td>CA</td>\n",
       "    </tr>\n",
       "    <tr>\n",
       "      <th>1060258</th>\n",
       "      <td>Carrière Industrie BV</td>\n",
       "      <td>CA1</td>\n",
       "    </tr>\n",
       "    <tr>\n",
       "      <th>1060259</th>\n",
       "      <td>Carrière Industrie II BV</td>\n",
       "      <td>CA2</td>\n",
       "    </tr>\n",
       "    <tr>\n",
       "      <th>1060260</th>\n",
       "      <td>Carrière Personeelsdiensten</td>\n",
       "      <td>CAP</td>\n",
       "    </tr>\n",
       "    <tr>\n",
       "      <th>1060261</th>\n",
       "      <td>Carrière Uitzendbureau B.V.</td>\n",
       "      <td>CAU</td>\n",
       "    </tr>\n",
       "    <tr>\n",
       "      <th>1060262</th>\n",
       "      <td>HappyNurse Bemiddeling B.V.</td>\n",
       "      <td>HNB</td>\n",
       "    </tr>\n",
       "    <tr>\n",
       "      <th>1060265</th>\n",
       "      <td>HappyNurse Holding B.V.</td>\n",
       "      <td>HNH</td>\n",
       "    </tr>\n",
       "    <tr>\n",
       "      <th>1060266</th>\n",
       "      <td>HappyNurse Thuiszorg B.V.</td>\n",
       "      <td>HNT</td>\n",
       "    </tr>\n",
       "    <tr>\n",
       "      <th>1060267</th>\n",
       "      <td>HappyNurse Uitzendbureau B.V.</td>\n",
       "      <td>HNU</td>\n",
       "    </tr>\n",
       "    <tr>\n",
       "      <th>1060269</th>\n",
       "      <td>Staffing Direct Bemiddeling B.V.</td>\n",
       "      <td>SDB</td>\n",
       "    </tr>\n",
       "    <tr>\n",
       "      <th>1060270</th>\n",
       "      <td>Staffing Direct BV</td>\n",
       "      <td>SD</td>\n",
       "    </tr>\n",
       "    <tr>\n",
       "      <th>1060271</th>\n",
       "      <td>Staffing Sourcing BV</td>\n",
       "      <td>SSO</td>\n",
       "    </tr>\n",
       "    <tr>\n",
       "      <th>1060272</th>\n",
       "      <td>Staffing Direct II BV</td>\n",
       "      <td>SD2</td>\n",
       "    </tr>\n",
       "    <tr>\n",
       "      <th>1060273</th>\n",
       "      <td>HappyNurse Service Center B.V.</td>\n",
       "      <td>HNSC</td>\n",
       "    </tr>\n",
       "    <tr>\n",
       "      <th>1060274</th>\n",
       "      <td>Personeelsdiensten Eindhoven B.V.</td>\n",
       "      <td>PDE</td>\n",
       "    </tr>\n",
       "    <tr>\n",
       "      <th>1063019</th>\n",
       "      <td>Carrière Non Franchise B.V.</td>\n",
       "      <td>CaNF</td>\n",
       "    </tr>\n",
       "    <tr>\n",
       "      <th>1064667</th>\n",
       "      <td>Staffing Associates Group B.V.</td>\n",
       "      <td>SAG</td>\n",
       "    </tr>\n",
       "    <tr>\n",
       "      <th>1064668</th>\n",
       "      <td>Carriere Holding B.V.</td>\n",
       "      <td>CAH</td>\n",
       "    </tr>\n",
       "    <tr>\n",
       "      <th>1064670</th>\n",
       "      <td>Carrière Franchise B.V.</td>\n",
       "      <td>CAF</td>\n",
       "    </tr>\n",
       "    <tr>\n",
       "      <th>1064671</th>\n",
       "      <td>Carrière Deelnemingen B.V.</td>\n",
       "      <td>CAD</td>\n",
       "    </tr>\n",
       "    <tr>\n",
       "      <th>1064672</th>\n",
       "      <td>Betere Banen Veendam B.V.</td>\n",
       "      <td>BBV</td>\n",
       "    </tr>\n",
       "    <tr>\n",
       "      <th>1064673</th>\n",
       "      <td>Staffing Associates Service Center B.V.</td>\n",
       "      <td>SASC</td>\n",
       "    </tr>\n",
       "    <tr>\n",
       "      <th>1064678</th>\n",
       "      <td>Staffing Direct Contracten B.V.</td>\n",
       "      <td>SDC</td>\n",
       "    </tr>\n",
       "    <tr>\n",
       "      <th>1064679</th>\n",
       "      <td>Career Factory Holding B.V</td>\n",
       "      <td>CFH</td>\n",
       "    </tr>\n",
       "    <tr>\n",
       "      <th>1064680</th>\n",
       "      <td>HappyNurse Uitzendbureau Franchise B.V.</td>\n",
       "      <td>HNUF</td>\n",
       "    </tr>\n",
       "    <tr>\n",
       "      <th>1064681</th>\n",
       "      <td>HappyNurse Thuiszorg Franchise B.V.</td>\n",
       "      <td>HNTF</td>\n",
       "    </tr>\n",
       "    <tr>\n",
       "      <th>1064682_</th>\n",
       "      <td>Gunst zorg B.V.</td>\n",
       "      <td>GZ</td>\n",
       "    </tr>\n",
       "    <tr>\n",
       "      <th>1064683_</th>\n",
       "      <td>Happy Campus B.V.</td>\n",
       "      <td>HC</td>\n",
       "    </tr>\n",
       "    <tr>\n",
       "      <th>1064684</th>\n",
       "      <td>Staffing Direct Group B.V.</td>\n",
       "      <td>SDG</td>\n",
       "    </tr>\n",
       "    <tr>\n",
       "      <th>1064685</th>\n",
       "      <td>CNF B.V.</td>\n",
       "      <td>CNFBV</td>\n",
       "    </tr>\n",
       "    <tr>\n",
       "      <th>1066219</th>\n",
       "      <td>Career Factory Franchise Contracten B.V.</td>\n",
       "      <td>CFFC</td>\n",
       "    </tr>\n",
       "    <tr>\n",
       "      <th>1074700</th>\n",
       "      <td>Interactief Groep B.V.</td>\n",
       "      <td>IAG</td>\n",
       "    </tr>\n",
       "    <tr>\n",
       "      <th>1074701</th>\n",
       "      <td>Carriere HR Solutions I BV</td>\n",
       "      <td>HRSI</td>\n",
       "    </tr>\n",
       "    <tr>\n",
       "      <th>1074702</th>\n",
       "      <td>Carriere HR Solutions II B.V.</td>\n",
       "      <td>HRSII</td>\n",
       "    </tr>\n",
       "    <tr>\n",
       "      <th>1074703</th>\n",
       "      <td>Carriere HR Solutions III B.V.</td>\n",
       "      <td>HRSIII</td>\n",
       "    </tr>\n",
       "    <tr>\n",
       "      <th>1074704</th>\n",
       "      <td>Carriere HR Solutions IV B.V.</td>\n",
       "      <td>HRSIV</td>\n",
       "    </tr>\n",
       "  </tbody>\n",
       "</table>\n",
       "</div>"
      ],
      "text/plain": [
       "                                              name shortname\n",
       "1038632                   Staffing Associates B.V.       SAS\n",
       "1060253                     BBB Dienstengroep B.V.       BBB\n",
       "1060254                 Career Factory Bemiddeling       CFB\n",
       "1060255                          Career Factory BV        CF\n",
       "1060256                    Carrière Bemiddeling BV       CAB\n",
       "1060257                                Carrière BV        CA\n",
       "1060258                      Carrière Industrie BV       CA1\n",
       "1060259                   Carrière Industrie II BV       CA2\n",
       "1060260                Carrière Personeelsdiensten       CAP\n",
       "1060261                Carrière Uitzendbureau B.V.       CAU\n",
       "1060262                HappyNurse Bemiddeling B.V.       HNB\n",
       "1060265                    HappyNurse Holding B.V.       HNH\n",
       "1060266                  HappyNurse Thuiszorg B.V.       HNT\n",
       "1060267              HappyNurse Uitzendbureau B.V.       HNU\n",
       "1060269           Staffing Direct Bemiddeling B.V.       SDB\n",
       "1060270                         Staffing Direct BV        SD\n",
       "1060271                       Staffing Sourcing BV       SSO\n",
       "1060272                      Staffing Direct II BV       SD2\n",
       "1060273             HappyNurse Service Center B.V.      HNSC\n",
       "1060274          Personeelsdiensten Eindhoven B.V.       PDE\n",
       "1063019                Carrière Non Franchise B.V.      CaNF\n",
       "1064667             Staffing Associates Group B.V.       SAG\n",
       "1064668                      Carriere Holding B.V.       CAH\n",
       "1064670                    Carrière Franchise B.V.       CAF\n",
       "1064671                 Carrière Deelnemingen B.V.       CAD\n",
       "1064672                  Betere Banen Veendam B.V.       BBV\n",
       "1064673    Staffing Associates Service Center B.V.      SASC\n",
       "1064678            Staffing Direct Contracten B.V.       SDC\n",
       "1064679                 Career Factory Holding B.V       CFH\n",
       "1064680    HappyNurse Uitzendbureau Franchise B.V.      HNUF\n",
       "1064681        HappyNurse Thuiszorg Franchise B.V.      HNTF\n",
       "1064682_                           Gunst zorg B.V.        GZ\n",
       "1064683_                         Happy Campus B.V.        HC\n",
       "1064684                 Staffing Direct Group B.V.       SDG\n",
       "1064685                                   CNF B.V.     CNFBV\n",
       "1066219   Career Factory Franchise Contracten B.V.      CFFC\n",
       "1074700                     Interactief Groep B.V.       IAG\n",
       "1074701                 Carriere HR Solutions I BV      HRSI\n",
       "1074702              Carriere HR Solutions II B.V.     HRSII\n",
       "1074703             Carriere HR Solutions III B.V.    HRSIII\n",
       "1074704              Carriere HR Solutions IV B.V.     HRSIV"
      ]
     },
     "execution_count": 30,
     "metadata": {},
     "output_type": "execute_result"
    }
   ],
   "source": [
    "offices"
   ]
  },
  {
   "cell_type": "code",
   "execution_count": 41,
   "metadata": {
    "ExecuteTime": {
     "end_time": "2019-04-16T21:55:28.679368Z",
     "start_time": "2019-04-16T21:55:28.649496Z"
    }
   },
   "outputs": [],
   "source": [
    "for office, rows in offices.iterrows():\n",
    "    logging.info(3*'-' + rows ['name']  +3*'-')"
   ]
  },
  {
   "cell_type": "code",
   "execution_count": 31,
   "metadata": {
    "ExecuteTime": {
     "end_time": "2019-04-16T21:49:23.288713Z",
     "start_time": "2019-04-16T21:49:23.275289Z"
    }
   },
   "outputs": [],
   "source": [
    "data = office"
   ]
  },
  {
   "cell_type": "code",
   "execution_count": 42,
   "metadata": {
    "ExecuteTime": {
     "end_time": "2019-04-16T21:56:07.967521Z",
     "start_time": "2019-04-16T21:56:07.962076Z"
    }
   },
   "outputs": [
    {
     "data": {
      "text/plain": [
       "'7 records'"
      ]
     },
     "execution_count": 42,
     "metadata": {},
     "output_type": "execute_result"
    }
   ],
   "source": [
    "f'{len(data)} records'"
   ]
  },
  {
   "cell_type": "code",
   "execution_count": 43,
   "metadata": {
    "ExecuteTime": {
     "end_time": "2019-04-16T21:56:08.648218Z",
     "start_time": "2019-04-16T21:56:08.642480Z"
    }
   },
   "outputs": [
    {
     "name": "stdout",
     "output_type": "stream",
     "text": [
      "len(data)\n"
     ]
    }
   ],
   "source": [
    "print('len(data)')"
   ]
  },
  {
   "cell_type": "code",
   "execution_count": 38,
   "metadata": {
    "ExecuteTime": {
     "end_time": "2019-04-16T21:51:46.969838Z",
     "start_time": "2019-04-16T21:51:46.964848Z"
    }
   },
   "outputs": [],
   "source": [
    "logging.info(f'{len(data)} records')"
   ]
  },
  {
   "cell_type": "code",
   "execution_count": 8,
   "metadata": {
    "ExecuteTime": {
     "end_time": "2019-04-16T13:01:42.156250Z",
     "start_time": "2019-04-16T13:00:49.548085Z"
    }
   },
   "outputs": [
    {
     "name": "stdout",
     "output_type": "stream",
     "text": [
      "selecting office: 1038632...\n",
      "Ok !\n"
     ]
    }
   ],
   "source": [
    "offices = offices[offices.index == '1064667']\n",
    "trans = pull_transactions(offices,login, jaar = '2018')"
   ]
  },
  {
   "cell_type": "code",
   "execution_count": 14,
   "metadata": {
    "ExecuteTime": {
     "end_time": "2019-04-16T15:41:00.124317Z",
     "start_time": "2019-04-16T15:41:00.108249Z"
    }
   },
   "outputs": [],
   "source": [
    "data = pd.read_csv('/Users/melvinfolkers/Documents/github/twinfield/data/staging/twinfield_2018.csv')"
   ]
  },
  {
   "cell_type": "code",
   "execution_count": 16,
   "metadata": {
    "ExecuteTime": {
     "end_time": "2019-04-16T15:41:34.842598Z",
     "start_time": "2019-04-16T15:41:34.829992Z"
    }
   },
   "outputs": [
    {
     "data": {
      "text/plain": [
       "1064667    938\n",
       "Name: administratienummer, dtype: int64"
      ]
     },
     "execution_count": 16,
     "metadata": {},
     "output_type": "execute_result"
    }
   ],
   "source": [
    "data['administratienummer'].value_counts()"
   ]
  },
  {
   "cell_type": "code",
   "execution_count": 19,
   "metadata": {
    "ExecuteTime": {
     "end_time": "2019-04-16T15:42:08.300562Z",
     "start_time": "2019-04-16T15:42:08.298055Z"
    }
   },
   "outputs": [],
   "source": [
    "#pd.to_datetime(data['head.date'])"
   ]
  },
  {
   "cell_type": "code",
   "execution_count": 10,
   "metadata": {
    "ExecuteTime": {
     "end_time": "2019-04-16T13:01:42.435015Z",
     "start_time": "2019-04-16T13:01:42.295652Z"
    }
   },
   "outputs": [],
   "source": [
    "metadata = get_metadata('030_1', login)"
   ]
  },
  {
   "cell_type": "markdown",
   "metadata": {},
   "source": [
    "## Export"
   ]
  },
  {
   "cell_type": "code",
   "execution_count": null,
   "metadata": {},
   "outputs": [],
   "source": []
  }
 ],
 "metadata": {
  "kernelspec": {
   "display_name": "Python 3",
   "language": "python",
   "name": "python3"
  },
  "language_info": {
   "codemirror_mode": {
    "name": "ipython",
    "version": 3
   },
   "file_extension": ".py",
   "mimetype": "text/x-python",
   "name": "python",
   "nbconvert_exporter": "python",
   "pygments_lexer": "ipython3",
   "version": "3.6.5"
  },
  "toc": {
   "base_numbering": 1,
   "nav_menu": {},
   "number_sections": true,
   "sideBar": true,
   "skip_h1_title": true,
   "title_cell": "Overzicht",
   "title_sidebar": "Stappen",
   "toc_cell": true,
   "toc_position": {
    "height": "calc(100% - 180px)",
    "left": "10px",
    "top": "150px",
    "width": "301px"
   },
   "toc_section_display": true,
   "toc_window_display": true
  }
 },
 "nbformat": 4,
 "nbformat_minor": 2
}
