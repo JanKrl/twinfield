{
 "cells": [
  {
   "cell_type": "markdown",
   "metadata": {},
   "source": [
    "<img src=\"https://static.wixstatic.com/media/a9ca5e_825bd4d39e7d468faf735b801fa3dea4~mv2.png/v1/fill/w_1458,h_246,al_c,usm_0.66_1.00_0.01/a9ca5e_825bd4d39e7d468faf735b801fa3dea4~mv2.png\" width=\"200\">"
   ]
  },
  {
   "cell_type": "markdown",
   "metadata": {},
   "source": [
    "# Twinfield api\n",
    " __Notebook voor het uitvragen van twinfield dataset__\n",
    " \n",
    " __Auteur:__ Melvin Folkers (Yellow Stacks B.V.)<br>\n",
    " __Doel:__ "
   ]
  },
  {
   "cell_type": "markdown",
   "metadata": {
    "toc": true
   },
   "source": [
    "<h1>Overzicht<span class=\"tocSkip\"></span></h1>\n",
    "<div class=\"toc\"><ul class=\"toc-item\"><li><span><a href=\"#parameters\" data-toc-modified-id=\"parameters-1\"><span class=\"toc-item-num\">1&nbsp;&nbsp;</span>parameters</a></span><ul class=\"toc-item\"><li><span><a href=\"#run-parameters\" data-toc-modified-id=\"run-parameters-1.1\"><span class=\"toc-item-num\">1.1&nbsp;&nbsp;</span>run parameters</a></span></li><li><span><a href=\"#import-libraries\" data-toc-modified-id=\"import-libraries-1.2\"><span class=\"toc-item-num\">1.2&nbsp;&nbsp;</span>import libraries</a></span></li><li><span><a href=\"#juno-settings\" data-toc-modified-id=\"juno-settings-1.3\"><span class=\"toc-item-num\">1.3&nbsp;&nbsp;</span>juno settings</a></span></li><li><span><a href=\"#functions\" data-toc-modified-id=\"functions-1.4\"><span class=\"toc-item-num\">1.4&nbsp;&nbsp;</span>functions</a></span></li></ul></li><li><span><a href=\"#Run-script\" data-toc-modified-id=\"Run-script-2\"><span class=\"toc-item-num\">2&nbsp;&nbsp;</span>Run script</a></span></li><li><span><a href=\"#CREATE-SOAP-COLUMNS\" data-toc-modified-id=\"CREATE-SOAP-COLUMNS-3\"><span class=\"toc-item-num\">3&nbsp;&nbsp;</span>CREATE SOAP COLUMNS</a></span></li><li><span><a href=\"#Export\" data-toc-modified-id=\"Export-4\"><span class=\"toc-item-num\">4&nbsp;&nbsp;</span>Export</a></span></li></ul></div>"
   ]
  },
  {
   "cell_type": "markdown",
   "metadata": {},
   "source": [
    "## parameters"
   ]
  },
  {
   "cell_type": "markdown",
   "metadata": {},
   "source": [
    "### run parameters"
   ]
  },
  {
   "cell_type": "code",
   "execution_count": 1,
   "metadata": {
    "ExecuteTime": {
     "end_time": "2019-04-18T20:56:11.567300Z",
     "start_time": "2019-04-18T20:56:11.563318Z"
    }
   },
   "outputs": [],
   "source": [
    "user = 'Python'\n",
    "password = 'U3RhZmZpbmcyMDE5IQ==\\n'\n",
    "organisation = 'Associates'"
   ]
  },
  {
   "cell_type": "markdown",
   "metadata": {},
   "source": [
    "### import libraries"
   ]
  },
  {
   "cell_type": "code",
   "execution_count": 2,
   "metadata": {
    "ExecuteTime": {
     "end_time": "2019-04-18T20:56:12.487682Z",
     "start_time": "2019-04-18T20:56:11.569829Z"
    }
   },
   "outputs": [],
   "source": [
    "import os\n",
    "import pandas as pd"
   ]
  },
  {
   "cell_type": "code",
   "execution_count": 4,
   "metadata": {
    "ExecuteTime": {
     "end_time": "2019-04-18T20:56:23.696323Z",
     "start_time": "2019-04-18T20:56:23.692428Z"
    }
   },
   "outputs": [],
   "source": [
    "projectdir = os.getcwd()\n",
    "os.chdir('../')\n",
    "\n",
    "from  functions import SessionParameters\n",
    "from functions import get_metadata \n",
    "from functions import soap_columns \n",
    "from modules import read_offices\n",
    "from pull_data import pull_transactions\n",
    "from export import push_to_azure\n",
    "os.chdir(projectdir)"
   ]
  },
  {
   "cell_type": "markdown",
   "metadata": {},
   "source": [
    "### juno settings"
   ]
  },
  {
   "cell_type": "code",
   "execution_count": 5,
   "metadata": {
    "ExecuteTime": {
     "end_time": "2019-04-18T20:56:24.628199Z",
     "start_time": "2019-04-18T20:56:24.401061Z"
    }
   },
   "outputs": [
    {
     "data": {
      "text/html": [
       "<style>.container { width:80% !important; }</style>"
      ],
      "text/plain": [
       "<IPython.core.display.HTML object>"
      ]
     },
     "metadata": {},
     "output_type": "display_data"
    }
   ],
   "source": [
    "from IPython.core.display import display, HTML\n",
    "display(HTML(\"<style>.container { width:80% !important; }</style>\")) # maakt de jupyter notebook cellen 100% breed\n",
    "from IPython.display import IFrame\n",
    "%matplotlib inline \n",
    "# voor het plotten van grafieken\n",
    "\n",
    "from IPython.core.interactiveshell import InteractiveShell\n",
    "InteractiveShell.ast_node_interactivity = \"all\" # om meerdere grafieken/tabellen in 1 cel te kunnen laten zien.\n",
    "\n",
    "pd.options.display.max_columns = None # laat alle kolommen zien\n",
    "pd.options.display.float_format = '{:,.2f}'.format\n",
    "\n",
    "from IPython.display import Image\n",
    "from IPython.core.display import HTML \n",
    "\n"
   ]
  },
  {
   "cell_type": "markdown",
   "metadata": {},
   "source": [
    "### functions"
   ]
  },
  {
   "cell_type": "code",
   "execution_count": 6,
   "metadata": {
    "ExecuteTime": {
     "end_time": "2019-04-18T20:56:24.965555Z",
     "start_time": "2019-04-18T20:56:24.962728Z"
    }
   },
   "outputs": [],
   "source": [
    "from datetime import datetime"
   ]
  },
  {
   "cell_type": "code",
   "execution_count": 7,
   "metadata": {
    "ExecuteTime": {
     "end_time": "2019-04-18T20:56:25.099964Z",
     "start_time": "2019-04-18T20:56:25.097383Z"
    }
   },
   "outputs": [],
   "source": [
    "import logging"
   ]
  },
  {
   "cell_type": "markdown",
   "metadata": {},
   "source": [
    "## Run script"
   ]
  },
  {
   "cell_type": "code",
   "execution_count": 8,
   "metadata": {
    "ExecuteTime": {
     "end_time": "2019-04-18T20:56:25.920070Z",
     "start_time": "2019-04-18T20:56:25.437350Z"
    }
   },
   "outputs": [],
   "source": [
    "login = SessionParameters(user ='Python', pw = r'U3RhZmZpbmcyMDE5IQ==\\n', organisation = 'Associates')\n",
    "offices = read_offices(login)"
   ]
  },
  {
   "cell_type": "code",
   "execution_count": 33,
   "metadata": {
    "ExecuteTime": {
     "end_time": "2019-04-18T21:05:55.340246Z",
     "start_time": "2019-04-18T21:05:55.223601Z"
    }
   },
   "outputs": [],
   "source": [
    "metadata = get_metadata('030_1', login)"
   ]
  },
  {
   "cell_type": "code",
   "execution_count": 49,
   "metadata": {
    "ExecuteTime": {
     "end_time": "2019-04-18T21:22:48.400796Z",
     "start_time": "2019-04-18T21:22:48.384992Z"
    }
   },
   "outputs": [],
   "source": [
    "avl = ['fin.trs.head.code',\n",
    " 'fin.trs.head.curcode',\n",
    " 'fin.trs.head.date',\n",
    " 'fin.trs.head.inpdate',\n",
    " 'fin.trs.head.number',\n",
    " 'fin.trs.head.origin',\n",
    " 'fin.trs.head.period',\n",
    " 'fin.trs.head.relationname',\n",
    " 'fin.trs.head.status',\n",
    " 'fin.trs.head.username',\n",
    " 'fin.trs.head.year',\n",
    " 'fin.trs.line.basevaluesigned',\n",
    " 'fin.trs.line.chequenumber',\n",
    " 'fin.trs.line.debitcredit',\n",
    " 'fin.trs.line.description',\n",
    " 'fin.trs.line.dim1',\n",
    " 'fin.trs.line.dim1group1',\n",
    " 'fin.trs.line.dim1group1name',\n",
    " 'fin.trs.line.dim1group2',\n",
    " 'fin.trs.line.dim1group2name',\n",
    " 'fin.trs.line.dim1group3',\n",
    " 'fin.trs.line.dim1group3name',\n",
    " 'fin.trs.line.dim1name',\n",
    " 'fin.trs.line.dim1type',\n",
    " 'fin.trs.line.dim2',\n",
    " 'fin.trs.line.dim2name',\n",
    " 'fin.trs.line.dim2type',\n",
    " 'fin.trs.line.dim3',\n",
    " 'fin.trs.line.dim3name',\n",
    " 'fin.trs.line.dim3type',\n",
    " 'fin.trs.line.freetext1',\n",
    " 'fin.trs.line.freetext2',\n",
    " 'fin.trs.line.freetext3',\n",
    " 'fin.trs.line.invnumber',\n",
    " 'fin.trs.line.quantity',\n",
    " 'fin.trs.line.repvaluesigned',\n",
    " 'fin.trs.line.valuesigned',\n",
    " 'fin.trs.line.vatbasevaluesigned',\n",
    " 'fin.trs.line.vatcode',\n",
    " 'fin.trs.mng.type',\n",
    " 'fin.trs.administratienaam',\n",
    " 'fin.trs.administratienummer',\n",
    " 'fin.trs.wm']"
   ]
  },
  {
   "cell_type": "code",
   "execution_count": 51,
   "metadata": {
    "ExecuteTime": {
     "end_time": "2019-04-18T21:23:09.018524Z",
     "start_time": "2019-04-18T21:23:09.015354Z"
    }
   },
   "outputs": [],
   "source": [
    "ttl = metadata.index.tolist()"
   ]
  },
  {
   "cell_type": "code",
   "execution_count": 53,
   "metadata": {
    "ExecuteTime": {
     "end_time": "2019-04-18T21:23:30.753814Z",
     "start_time": "2019-04-18T21:23:30.749640Z"
    }
   },
   "outputs": [
    {
     "data": {
      "text/plain": [
       "['fin.trs.head.office',\n",
       " 'fin.trs.head.officename',\n",
       " 'fin.trs.head.yearperiod',\n",
       " 'fin.trs.head.modified']"
      ]
     },
     "execution_count": 53,
     "metadata": {},
     "output_type": "execute_result"
    }
   ],
   "source": [
    "[x for x in ttl if x not in avl]"
   ]
  },
  {
   "cell_type": "code",
   "execution_count": 54,
   "metadata": {
    "ExecuteTime": {
     "end_time": "2019-04-18T21:23:47.242819Z",
     "start_time": "2019-04-18T21:23:47.221023Z"
    }
   },
   "outputs": [
    {
     "data": {
      "text/html": [
       "<div>\n",
       "<style scoped>\n",
       "    .dataframe tbody tr th:only-of-type {\n",
       "        vertical-align: middle;\n",
       "    }\n",
       "\n",
       "    .dataframe tbody tr th {\n",
       "        vertical-align: top;\n",
       "    }\n",
       "\n",
       "    .dataframe thead th {\n",
       "        text-align: right;\n",
       "    }\n",
       "</style>\n",
       "<table border=\"1\" class=\"dataframe\">\n",
       "  <thead>\n",
       "    <tr style=\"text-align: right;\">\n",
       "      <th></th>\n",
       "      <th>ask</th>\n",
       "      <th>finderparam</th>\n",
       "      <th>from</th>\n",
       "      <th>label</th>\n",
       "      <th>operator</th>\n",
       "      <th>to</th>\n",
       "      <th>visible</th>\n",
       "    </tr>\n",
       "    <tr>\n",
       "      <th>field</th>\n",
       "      <th></th>\n",
       "      <th></th>\n",
       "      <th></th>\n",
       "      <th></th>\n",
       "      <th></th>\n",
       "      <th></th>\n",
       "      <th></th>\n",
       "    </tr>\n",
       "  </thead>\n",
       "  <tbody>\n",
       "    <tr>\n",
       "      <th>fin.trs.head.office</th>\n",
       "      <td>false</td>\n",
       "      <td>None</td>\n",
       "      <td>None</td>\n",
       "      <td>Administratie</td>\n",
       "      <td>none</td>\n",
       "      <td>None</td>\n",
       "      <td>true</td>\n",
       "    </tr>\n",
       "    <tr>\n",
       "      <th>fin.trs.head.officename</th>\n",
       "      <td>false</td>\n",
       "      <td>None</td>\n",
       "      <td>None</td>\n",
       "      <td>Adm.naam</td>\n",
       "      <td>none</td>\n",
       "      <td>None</td>\n",
       "      <td>true</td>\n",
       "    </tr>\n",
       "    <tr>\n",
       "      <th>fin.trs.head.year</th>\n",
       "      <td>false</td>\n",
       "      <td>None</td>\n",
       "      <td>None</td>\n",
       "      <td>Jaar</td>\n",
       "      <td>none</td>\n",
       "      <td>None</td>\n",
       "      <td>true</td>\n",
       "    </tr>\n",
       "    <tr>\n",
       "      <th>fin.trs.head.period</th>\n",
       "      <td>false</td>\n",
       "      <td>None</td>\n",
       "      <td>None</td>\n",
       "      <td>Periode</td>\n",
       "      <td>none</td>\n",
       "      <td>None</td>\n",
       "      <td>true</td>\n",
       "    </tr>\n",
       "    <tr>\n",
       "      <th>fin.trs.head.yearperiod</th>\n",
       "      <td>true</td>\n",
       "      <td>None</td>\n",
       "      <td>None</td>\n",
       "      <td>Jaar/periode (JJJJ/PP)</td>\n",
       "      <td>between</td>\n",
       "      <td>None</td>\n",
       "      <td>false</td>\n",
       "    </tr>\n",
       "    <tr>\n",
       "      <th>fin.trs.head.code</th>\n",
       "      <td>false</td>\n",
       "      <td>None</td>\n",
       "      <td>None</td>\n",
       "      <td>Dagboek</td>\n",
       "      <td>none</td>\n",
       "      <td>None</td>\n",
       "      <td>true</td>\n",
       "    </tr>\n",
       "    <tr>\n",
       "      <th>fin.trs.head.number</th>\n",
       "      <td>false</td>\n",
       "      <td>None</td>\n",
       "      <td>None</td>\n",
       "      <td>Boekingsnummer</td>\n",
       "      <td>none</td>\n",
       "      <td>None</td>\n",
       "      <td>true</td>\n",
       "    </tr>\n",
       "    <tr>\n",
       "      <th>fin.trs.head.status</th>\n",
       "      <td>true</td>\n",
       "      <td>None</td>\n",
       "      <td>normal</td>\n",
       "      <td>Status</td>\n",
       "      <td>equal</td>\n",
       "      <td>None</td>\n",
       "      <td>true</td>\n",
       "    </tr>\n",
       "    <tr>\n",
       "      <th>fin.trs.head.date</th>\n",
       "      <td>false</td>\n",
       "      <td>None</td>\n",
       "      <td>None</td>\n",
       "      <td>Boekdatum</td>\n",
       "      <td>none</td>\n",
       "      <td>None</td>\n",
       "      <td>true</td>\n",
       "    </tr>\n",
       "    <tr>\n",
       "      <th>fin.trs.head.curcode</th>\n",
       "      <td>false</td>\n",
       "      <td>None</td>\n",
       "      <td>None</td>\n",
       "      <td>Valuta</td>\n",
       "      <td>none</td>\n",
       "      <td>None</td>\n",
       "      <td>true</td>\n",
       "    </tr>\n",
       "    <tr>\n",
       "      <th>fin.trs.head.relationname</th>\n",
       "      <td>false</td>\n",
       "      <td>None</td>\n",
       "      <td>None</td>\n",
       "      <td>Relatienaam</td>\n",
       "      <td>none</td>\n",
       "      <td>None</td>\n",
       "      <td>true</td>\n",
       "    </tr>\n",
       "    <tr>\n",
       "      <th>fin.trs.head.inpdate</th>\n",
       "      <td>true</td>\n",
       "      <td>None</td>\n",
       "      <td>None</td>\n",
       "      <td>Invoerdatum</td>\n",
       "      <td>between</td>\n",
       "      <td>None</td>\n",
       "      <td>true</td>\n",
       "    </tr>\n",
       "    <tr>\n",
       "      <th>fin.trs.head.modified</th>\n",
       "      <td>true</td>\n",
       "      <td>None</td>\n",
       "      <td>None</td>\n",
       "      <td>Wijzigingsdatum</td>\n",
       "      <td>between</td>\n",
       "      <td>None</td>\n",
       "      <td>false</td>\n",
       "    </tr>\n",
       "    <tr>\n",
       "      <th>fin.trs.head.username</th>\n",
       "      <td>false</td>\n",
       "      <td>None</td>\n",
       "      <td>None</td>\n",
       "      <td>Gebruikersnaam</td>\n",
       "      <td>none</td>\n",
       "      <td>None</td>\n",
       "      <td>true</td>\n",
       "    </tr>\n",
       "    <tr>\n",
       "      <th>fin.trs.line.dim1</th>\n",
       "      <td>true</td>\n",
       "      <td>None</td>\n",
       "      <td>None</td>\n",
       "      <td>Grootboekrek.</td>\n",
       "      <td>between</td>\n",
       "      <td>None</td>\n",
       "      <td>true</td>\n",
       "    </tr>\n",
       "    <tr>\n",
       "      <th>fin.trs.line.dim1name</th>\n",
       "      <td>false</td>\n",
       "      <td>None</td>\n",
       "      <td>None</td>\n",
       "      <td>Grootboekrek.naam</td>\n",
       "      <td>none</td>\n",
       "      <td>None</td>\n",
       "      <td>true</td>\n",
       "    </tr>\n",
       "    <tr>\n",
       "      <th>fin.trs.line.dim1type</th>\n",
       "      <td>false</td>\n",
       "      <td>None</td>\n",
       "      <td>None</td>\n",
       "      <td>Dimensietype 1</td>\n",
       "      <td>none</td>\n",
       "      <td>None</td>\n",
       "      <td>true</td>\n",
       "    </tr>\n",
       "    <tr>\n",
       "      <th>fin.trs.line.dim2</th>\n",
       "      <td>true</td>\n",
       "      <td>None</td>\n",
       "      <td>None</td>\n",
       "      <td>Kpl./rel.</td>\n",
       "      <td>between</td>\n",
       "      <td>None</td>\n",
       "      <td>true</td>\n",
       "    </tr>\n",
       "    <tr>\n",
       "      <th>fin.trs.line.dim2name</th>\n",
       "      <td>false</td>\n",
       "      <td>None</td>\n",
       "      <td>None</td>\n",
       "      <td>Kpl.-/rel.naam</td>\n",
       "      <td>none</td>\n",
       "      <td>None</td>\n",
       "      <td>true</td>\n",
       "    </tr>\n",
       "    <tr>\n",
       "      <th>fin.trs.line.dim2type</th>\n",
       "      <td>false</td>\n",
       "      <td>None</td>\n",
       "      <td>None</td>\n",
       "      <td>Dimensietype 2</td>\n",
       "      <td>none</td>\n",
       "      <td>None</td>\n",
       "      <td>true</td>\n",
       "    </tr>\n",
       "    <tr>\n",
       "      <th>fin.trs.line.dim3</th>\n",
       "      <td>true</td>\n",
       "      <td>None</td>\n",
       "      <td>None</td>\n",
       "      <td>Act./proj.</td>\n",
       "      <td>between</td>\n",
       "      <td>None</td>\n",
       "      <td>true</td>\n",
       "    </tr>\n",
       "    <tr>\n",
       "      <th>fin.trs.line.dim3name</th>\n",
       "      <td>false</td>\n",
       "      <td>None</td>\n",
       "      <td>None</td>\n",
       "      <td>Act.-/proj.naam</td>\n",
       "      <td>none</td>\n",
       "      <td>None</td>\n",
       "      <td>true</td>\n",
       "    </tr>\n",
       "    <tr>\n",
       "      <th>fin.trs.line.dim3type</th>\n",
       "      <td>false</td>\n",
       "      <td>None</td>\n",
       "      <td>None</td>\n",
       "      <td>Dimensietype 3</td>\n",
       "      <td>none</td>\n",
       "      <td>None</td>\n",
       "      <td>true</td>\n",
       "    </tr>\n",
       "    <tr>\n",
       "      <th>fin.trs.line.valuesigned</th>\n",
       "      <td>false</td>\n",
       "      <td>None</td>\n",
       "      <td>None</td>\n",
       "      <td>Bedrag</td>\n",
       "      <td>none</td>\n",
       "      <td>None</td>\n",
       "      <td>true</td>\n",
       "    </tr>\n",
       "    <tr>\n",
       "      <th>fin.trs.line.basevaluesigned</th>\n",
       "      <td>false</td>\n",
       "      <td>None</td>\n",
       "      <td>None</td>\n",
       "      <td>Basisbedrag</td>\n",
       "      <td>none</td>\n",
       "      <td>None</td>\n",
       "      <td>true</td>\n",
       "    </tr>\n",
       "    <tr>\n",
       "      <th>fin.trs.line.repvaluesigned</th>\n",
       "      <td>false</td>\n",
       "      <td>None</td>\n",
       "      <td>None</td>\n",
       "      <td>Rapportagebedrag</td>\n",
       "      <td>none</td>\n",
       "      <td>None</td>\n",
       "      <td>true</td>\n",
       "    </tr>\n",
       "    <tr>\n",
       "      <th>fin.trs.line.debitcredit</th>\n",
       "      <td>false</td>\n",
       "      <td>None</td>\n",
       "      <td>None</td>\n",
       "      <td>D/C</td>\n",
       "      <td>none</td>\n",
       "      <td>None</td>\n",
       "      <td>true</td>\n",
       "    </tr>\n",
       "    <tr>\n",
       "      <th>fin.trs.line.vatcode</th>\n",
       "      <td>false</td>\n",
       "      <td>None</td>\n",
       "      <td>None</td>\n",
       "      <td>Btw-code</td>\n",
       "      <td>none</td>\n",
       "      <td>None</td>\n",
       "      <td>true</td>\n",
       "    </tr>\n",
       "    <tr>\n",
       "      <th>fin.trs.line.vatbasevaluesigned</th>\n",
       "      <td>false</td>\n",
       "      <td>None</td>\n",
       "      <td>None</td>\n",
       "      <td>Btw-bedrag</td>\n",
       "      <td>none</td>\n",
       "      <td>None</td>\n",
       "      <td>true</td>\n",
       "    </tr>\n",
       "    <tr>\n",
       "      <th>fin.trs.line.quantity</th>\n",
       "      <td>false</td>\n",
       "      <td>None</td>\n",
       "      <td>None</td>\n",
       "      <td>Aantal</td>\n",
       "      <td>none</td>\n",
       "      <td>None</td>\n",
       "      <td>true</td>\n",
       "    </tr>\n",
       "    <tr>\n",
       "      <th>fin.trs.line.chequenumber</th>\n",
       "      <td>false</td>\n",
       "      <td>None</td>\n",
       "      <td>None</td>\n",
       "      <td>Cheque</td>\n",
       "      <td>none</td>\n",
       "      <td>None</td>\n",
       "      <td>true</td>\n",
       "    </tr>\n",
       "    <tr>\n",
       "      <th>fin.trs.line.description</th>\n",
       "      <td>false</td>\n",
       "      <td>None</td>\n",
       "      <td>None</td>\n",
       "      <td>Omschrijving</td>\n",
       "      <td>none</td>\n",
       "      <td>None</td>\n",
       "      <td>true</td>\n",
       "    </tr>\n",
       "    <tr>\n",
       "      <th>fin.trs.line.invnumber</th>\n",
       "      <td>false</td>\n",
       "      <td>None</td>\n",
       "      <td>None</td>\n",
       "      <td>Factuurnummer</td>\n",
       "      <td>none</td>\n",
       "      <td>None</td>\n",
       "      <td>true</td>\n",
       "    </tr>\n",
       "    <tr>\n",
       "      <th>fin.trs.line.dim1group1</th>\n",
       "      <td>false</td>\n",
       "      <td>None</td>\n",
       "      <td>None</td>\n",
       "      <td>Groep 1</td>\n",
       "      <td>none</td>\n",
       "      <td>None</td>\n",
       "      <td>true</td>\n",
       "    </tr>\n",
       "    <tr>\n",
       "      <th>fin.trs.line.dim1group1name</th>\n",
       "      <td>false</td>\n",
       "      <td>None</td>\n",
       "      <td>None</td>\n",
       "      <td>Groepnaam 1</td>\n",
       "      <td>none</td>\n",
       "      <td>None</td>\n",
       "      <td>true</td>\n",
       "    </tr>\n",
       "    <tr>\n",
       "      <th>fin.trs.line.dim1group2</th>\n",
       "      <td>false</td>\n",
       "      <td>None</td>\n",
       "      <td>None</td>\n",
       "      <td>Groep 2</td>\n",
       "      <td>none</td>\n",
       "      <td>None</td>\n",
       "      <td>true</td>\n",
       "    </tr>\n",
       "    <tr>\n",
       "      <th>fin.trs.line.dim1group2name</th>\n",
       "      <td>false</td>\n",
       "      <td>None</td>\n",
       "      <td>None</td>\n",
       "      <td>Groepnaam 2</td>\n",
       "      <td>none</td>\n",
       "      <td>None</td>\n",
       "      <td>true</td>\n",
       "    </tr>\n",
       "    <tr>\n",
       "      <th>fin.trs.line.dim1group3</th>\n",
       "      <td>false</td>\n",
       "      <td>None</td>\n",
       "      <td>None</td>\n",
       "      <td>Groep 3</td>\n",
       "      <td>none</td>\n",
       "      <td>None</td>\n",
       "      <td>true</td>\n",
       "    </tr>\n",
       "    <tr>\n",
       "      <th>fin.trs.line.dim1group3name</th>\n",
       "      <td>false</td>\n",
       "      <td>None</td>\n",
       "      <td>None</td>\n",
       "      <td>Groepnaam 3</td>\n",
       "      <td>none</td>\n",
       "      <td>None</td>\n",
       "      <td>true</td>\n",
       "    </tr>\n",
       "    <tr>\n",
       "      <th>fin.trs.line.freetext1</th>\n",
       "      <td>false</td>\n",
       "      <td>None</td>\n",
       "      <td>None</td>\n",
       "      <td>Vrij tekstveld 1</td>\n",
       "      <td>none</td>\n",
       "      <td>None</td>\n",
       "      <td>true</td>\n",
       "    </tr>\n",
       "    <tr>\n",
       "      <th>fin.trs.line.freetext2</th>\n",
       "      <td>false</td>\n",
       "      <td>None</td>\n",
       "      <td>None</td>\n",
       "      <td>Vrij tekstveld 2</td>\n",
       "      <td>none</td>\n",
       "      <td>None</td>\n",
       "      <td>true</td>\n",
       "    </tr>\n",
       "    <tr>\n",
       "      <th>fin.trs.line.freetext3</th>\n",
       "      <td>false</td>\n",
       "      <td>None</td>\n",
       "      <td>None</td>\n",
       "      <td>Vrij tekstveld 3</td>\n",
       "      <td>none</td>\n",
       "      <td>None</td>\n",
       "      <td>true</td>\n",
       "    </tr>\n",
       "    <tr>\n",
       "      <th>fin.trs.head.origin</th>\n",
       "      <td>false</td>\n",
       "      <td>None</td>\n",
       "      <td>None</td>\n",
       "      <td>Boekingsoorsprong</td>\n",
       "      <td>none</td>\n",
       "      <td>None</td>\n",
       "      <td>true</td>\n",
       "    </tr>\n",
       "    <tr>\n",
       "      <th>fin.trs.mng.type</th>\n",
       "      <td>false</td>\n",
       "      <td>None</td>\n",
       "      <td>None</td>\n",
       "      <td>transactie type groep</td>\n",
       "      <td>none</td>\n",
       "      <td>None</td>\n",
       "      <td>true</td>\n",
       "    </tr>\n",
       "  </tbody>\n",
       "</table>\n",
       "</div>"
      ],
      "text/plain": [
       "                                   ask finderparam    from  \\\n",
       "field                                                        \n",
       "fin.trs.head.office              false        None    None   \n",
       "fin.trs.head.officename          false        None    None   \n",
       "fin.trs.head.year                false        None    None   \n",
       "fin.trs.head.period              false        None    None   \n",
       "fin.trs.head.yearperiod           true        None    None   \n",
       "fin.trs.head.code                false        None    None   \n",
       "fin.trs.head.number              false        None    None   \n",
       "fin.trs.head.status               true        None  normal   \n",
       "fin.trs.head.date                false        None    None   \n",
       "fin.trs.head.curcode             false        None    None   \n",
       "fin.trs.head.relationname        false        None    None   \n",
       "fin.trs.head.inpdate              true        None    None   \n",
       "fin.trs.head.modified             true        None    None   \n",
       "fin.trs.head.username            false        None    None   \n",
       "fin.trs.line.dim1                 true        None    None   \n",
       "fin.trs.line.dim1name            false        None    None   \n",
       "fin.trs.line.dim1type            false        None    None   \n",
       "fin.trs.line.dim2                 true        None    None   \n",
       "fin.trs.line.dim2name            false        None    None   \n",
       "fin.trs.line.dim2type            false        None    None   \n",
       "fin.trs.line.dim3                 true        None    None   \n",
       "fin.trs.line.dim3name            false        None    None   \n",
       "fin.trs.line.dim3type            false        None    None   \n",
       "fin.trs.line.valuesigned         false        None    None   \n",
       "fin.trs.line.basevaluesigned     false        None    None   \n",
       "fin.trs.line.repvaluesigned      false        None    None   \n",
       "fin.trs.line.debitcredit         false        None    None   \n",
       "fin.trs.line.vatcode             false        None    None   \n",
       "fin.trs.line.vatbasevaluesigned  false        None    None   \n",
       "fin.trs.line.quantity            false        None    None   \n",
       "fin.trs.line.chequenumber        false        None    None   \n",
       "fin.trs.line.description         false        None    None   \n",
       "fin.trs.line.invnumber           false        None    None   \n",
       "fin.trs.line.dim1group1          false        None    None   \n",
       "fin.trs.line.dim1group1name      false        None    None   \n",
       "fin.trs.line.dim1group2          false        None    None   \n",
       "fin.trs.line.dim1group2name      false        None    None   \n",
       "fin.trs.line.dim1group3          false        None    None   \n",
       "fin.trs.line.dim1group3name      false        None    None   \n",
       "fin.trs.line.freetext1           false        None    None   \n",
       "fin.trs.line.freetext2           false        None    None   \n",
       "fin.trs.line.freetext3           false        None    None   \n",
       "fin.trs.head.origin              false        None    None   \n",
       "fin.trs.mng.type                 false        None    None   \n",
       "\n",
       "                                                  label operator    to visible  \n",
       "field                                                                           \n",
       "fin.trs.head.office                       Administratie     none  None    true  \n",
       "fin.trs.head.officename                        Adm.naam     none  None    true  \n",
       "fin.trs.head.year                                  Jaar     none  None    true  \n",
       "fin.trs.head.period                             Periode     none  None    true  \n",
       "fin.trs.head.yearperiod          Jaar/periode (JJJJ/PP)  between  None   false  \n",
       "fin.trs.head.code                               Dagboek     none  None    true  \n",
       "fin.trs.head.number                      Boekingsnummer     none  None    true  \n",
       "fin.trs.head.status                              Status    equal  None    true  \n",
       "fin.trs.head.date                             Boekdatum     none  None    true  \n",
       "fin.trs.head.curcode                             Valuta     none  None    true  \n",
       "fin.trs.head.relationname                   Relatienaam     none  None    true  \n",
       "fin.trs.head.inpdate                        Invoerdatum  between  None    true  \n",
       "fin.trs.head.modified                   Wijzigingsdatum  between  None   false  \n",
       "fin.trs.head.username                    Gebruikersnaam     none  None    true  \n",
       "fin.trs.line.dim1                         Grootboekrek.  between  None    true  \n",
       "fin.trs.line.dim1name                 Grootboekrek.naam     none  None    true  \n",
       "fin.trs.line.dim1type                    Dimensietype 1     none  None    true  \n",
       "fin.trs.line.dim2                             Kpl./rel.  between  None    true  \n",
       "fin.trs.line.dim2name                    Kpl.-/rel.naam     none  None    true  \n",
       "fin.trs.line.dim2type                    Dimensietype 2     none  None    true  \n",
       "fin.trs.line.dim3                            Act./proj.  between  None    true  \n",
       "fin.trs.line.dim3name                   Act.-/proj.naam     none  None    true  \n",
       "fin.trs.line.dim3type                    Dimensietype 3     none  None    true  \n",
       "fin.trs.line.valuesigned                         Bedrag     none  None    true  \n",
       "fin.trs.line.basevaluesigned                Basisbedrag     none  None    true  \n",
       "fin.trs.line.repvaluesigned            Rapportagebedrag     none  None    true  \n",
       "fin.trs.line.debitcredit                            D/C     none  None    true  \n",
       "fin.trs.line.vatcode                           Btw-code     none  None    true  \n",
       "fin.trs.line.vatbasevaluesigned              Btw-bedrag     none  None    true  \n",
       "fin.trs.line.quantity                            Aantal     none  None    true  \n",
       "fin.trs.line.chequenumber                        Cheque     none  None    true  \n",
       "fin.trs.line.description                   Omschrijving     none  None    true  \n",
       "fin.trs.line.invnumber                    Factuurnummer     none  None    true  \n",
       "fin.trs.line.dim1group1                         Groep 1     none  None    true  \n",
       "fin.trs.line.dim1group1name                 Groepnaam 1     none  None    true  \n",
       "fin.trs.line.dim1group2                         Groep 2     none  None    true  \n",
       "fin.trs.line.dim1group2name                 Groepnaam 2     none  None    true  \n",
       "fin.trs.line.dim1group3                         Groep 3     none  None    true  \n",
       "fin.trs.line.dim1group3name                 Groepnaam 3     none  None    true  \n",
       "fin.trs.line.freetext1                 Vrij tekstveld 1     none  None    true  \n",
       "fin.trs.line.freetext2                 Vrij tekstveld 2     none  None    true  \n",
       "fin.trs.line.freetext3                 Vrij tekstveld 3     none  None    true  \n",
       "fin.trs.head.origin                   Boekingsoorsprong     none  None    true  \n",
       "fin.trs.mng.type                  transactie type groep     none  None    true  "
      ]
     },
     "execution_count": 54,
     "metadata": {},
     "output_type": "execute_result"
    }
   ],
   "source": [
    "metadata"
   ]
  },
  {
   "cell_type": "code",
   "execution_count": 35,
   "metadata": {
    "ExecuteTime": {
     "end_time": "2019-04-18T21:05:55.516039Z",
     "start_time": "2019-04-18T21:05:55.504482Z"
    }
   },
   "outputs": [
    {
     "data": {
      "text/html": [
       "<div>\n",
       "<style scoped>\n",
       "    .dataframe tbody tr th:only-of-type {\n",
       "        vertical-align: middle;\n",
       "    }\n",
       "\n",
       "    .dataframe tbody tr th {\n",
       "        vertical-align: top;\n",
       "    }\n",
       "\n",
       "    .dataframe thead th {\n",
       "        text-align: right;\n",
       "    }\n",
       "</style>\n",
       "<table border=\"1\" class=\"dataframe\">\n",
       "  <thead>\n",
       "    <tr style=\"text-align: right;\">\n",
       "      <th></th>\n",
       "      <th>ask</th>\n",
       "      <th>finderparam</th>\n",
       "      <th>from</th>\n",
       "      <th>label</th>\n",
       "      <th>operator</th>\n",
       "      <th>to</th>\n",
       "      <th>visible</th>\n",
       "    </tr>\n",
       "    <tr>\n",
       "      <th>field</th>\n",
       "      <th></th>\n",
       "      <th></th>\n",
       "      <th></th>\n",
       "      <th></th>\n",
       "      <th></th>\n",
       "      <th></th>\n",
       "      <th></th>\n",
       "    </tr>\n",
       "  </thead>\n",
       "  <tbody>\n",
       "    <tr>\n",
       "      <th>fin.trs.head.office</th>\n",
       "      <td>false</td>\n",
       "      <td>None</td>\n",
       "      <td>None</td>\n",
       "      <td>Administratie</td>\n",
       "      <td>none</td>\n",
       "      <td>None</td>\n",
       "      <td>true</td>\n",
       "    </tr>\n",
       "  </tbody>\n",
       "</table>\n",
       "</div>"
      ],
      "text/plain": [
       "                       ask finderparam  from          label operator    to  \\\n",
       "field                                                                        \n",
       "fin.trs.head.office  false        None  None  Administratie     none  None   \n",
       "\n",
       "                    visible  \n",
       "field                        \n",
       "fin.trs.head.office    true  "
      ]
     },
     "execution_count": 35,
     "metadata": {},
     "output_type": "execute_result"
    }
   ],
   "source": [
    "metadata.head(n=1)"
   ]
  },
  {
   "cell_type": "code",
   "execution_count": 36,
   "metadata": {
    "ExecuteTime": {
     "end_time": "2019-04-18T21:05:56.180534Z",
     "start_time": "2019-04-18T21:05:56.177400Z"
    }
   },
   "outputs": [],
   "source": [
    "fieldmapping = metadata['label'].to_dict()"
   ]
  },
  {
   "cell_type": "code",
   "execution_count": 47,
   "metadata": {
    "ExecuteTime": {
     "end_time": "2019-04-18T21:08:42.300759Z",
     "start_time": "2019-04-18T21:08:42.298097Z"
    }
   },
   "outputs": [],
   "source": [
    "ttl = ''\n",
    "for k,v in fieldmapping.items():\n",
    "    ttl = ttl + '\"' +(k.replace('fin.trs.', '') +  '\"' + f' AS \"{v}\",' )"
   ]
  },
  {
   "cell_type": "code",
   "execution_count": 48,
   "metadata": {
    "ExecuteTime": {
     "end_time": "2019-04-18T21:08:42.750509Z",
     "start_time": "2019-04-18T21:08:42.746694Z"
    }
   },
   "outputs": [
    {
     "data": {
      "text/plain": [
       "'\"head.office\" AS \"Administratie\",\"head.officename\" AS \"Adm.naam\",\"head.year\" AS \"Jaar\",\"head.period\" AS \"Periode\",\"head.yearperiod\" AS \"Jaar/periode (JJJJ/PP)\",\"head.code\" AS \"Dagboek\",\"head.number\" AS \"Boekingsnummer\",\"head.status\" AS \"Status\",\"head.date\" AS \"Boekdatum\",\"head.curcode\" AS \"Valuta\",\"head.relationname\" AS \"Relatienaam\",\"head.inpdate\" AS \"Invoerdatum\",\"head.modified\" AS \"Wijzigingsdatum\",\"head.username\" AS \"Gebruikersnaam\",\"line.dim1\" AS \"Grootboekrek.\",\"line.dim1name\" AS \"Grootboekrek.naam\",\"line.dim1type\" AS \"Dimensietype 1\",\"line.dim2\" AS \"Kpl./rel.\",\"line.dim2name\" AS \"Kpl.-/rel.naam\",\"line.dim2type\" AS \"Dimensietype 2\",\"line.dim3\" AS \"Act./proj.\",\"line.dim3name\" AS \"Act.-/proj.naam\",\"line.dim3type\" AS \"Dimensietype 3\",\"line.valuesigned\" AS \"Bedrag\",\"line.basevaluesigned\" AS \"Basisbedrag\",\"line.repvaluesigned\" AS \"Rapportagebedrag\",\"line.debitcredit\" AS \"D/C\",\"line.vatcode\" AS \"Btw-code\",\"line.vatbasevaluesigned\" AS \"Btw-bedrag\",\"line.quantity\" AS \"Aantal\",\"line.chequenumber\" AS \"Cheque\",\"line.description\" AS \"Omschrijving\",\"line.invnumber\" AS \"Factuurnummer\",\"line.dim1group1\" AS \"Groep 1\",\"line.dim1group1name\" AS \"Groepnaam 1\",\"line.dim1group2\" AS \"Groep 2\",\"line.dim1group2name\" AS \"Groepnaam 2\",\"line.dim1group3\" AS \"Groep 3\",\"line.dim1group3name\" AS \"Groepnaam 3\",\"line.freetext1\" AS \"Vrij tekstveld 1\",\"line.freetext2\" AS \"Vrij tekstveld 2\",\"line.freetext3\" AS \"Vrij tekstveld 3\",\"head.origin\" AS \"Boekingsoorsprong\",\"mng.type\" AS \"transactie type groep\",'"
      ]
     },
     "execution_count": 48,
     "metadata": {},
     "output_type": "execute_result"
    }
   ],
   "source": [
    "ttl"
   ]
  },
  {
   "cell_type": "code",
   "execution_count": null,
   "metadata": {
    "ExecuteTime": {
     "end_time": "2019-04-18T20:56:13.074630Z",
     "start_time": "2019-04-18T20:56:11.584Z"
    }
   },
   "outputs": [],
   "source": [
    "-"
   ]
  },
  {
   "cell_type": "markdown",
   "metadata": {},
   "source": [
    "## CREATE SOAP COLUMNS"
   ]
  },
  {
   "cell_type": "code",
   "execution_count": null,
   "metadata": {
    "ExecuteTime": {
     "end_time": "2019-04-18T20:56:13.075835Z",
     "start_time": "2019-04-18T20:56:11.586Z"
    }
   },
   "outputs": [],
   "source": [
    "ttl = soap_columns(metadata)"
   ]
  },
  {
   "cell_type": "code",
   "execution_count": null,
   "metadata": {
    "ExecuteTime": {
     "end_time": "2019-04-18T20:56:13.077674Z",
     "start_time": "2019-04-18T20:56:11.588Z"
    }
   },
   "outputs": [],
   "source": [
    "#[print(line) for line in ttl.split('\\n')]"
   ]
  },
  {
   "cell_type": "code",
   "execution_count": null,
   "metadata": {
    "ExecuteTime": {
     "end_time": "2019-04-18T20:56:13.080533Z",
     "start_time": "2019-04-18T20:56:11.590Z"
    }
   },
   "outputs": [],
   "source": [
    "offices = offices[offices.index == '1060271']\n",
    "trans = pull_credit_mngmnt(offices,login)"
   ]
  },
  {
   "cell_type": "markdown",
   "metadata": {},
   "source": [
    "## Export"
   ]
  },
  {
   "cell_type": "code",
   "execution_count": null,
   "metadata": {
    "ExecuteTime": {
     "end_time": "2019-04-18T20:56:13.082590Z",
     "start_time": "2019-04-18T20:56:11.592Z"
    }
   },
   "outputs": [],
   "source": [
    "-"
   ]
  },
  {
   "cell_type": "code",
   "execution_count": null,
   "metadata": {
    "ExecuteTime": {
     "end_time": "2019-04-18T20:56:13.084149Z",
     "start_time": "2019-04-18T20:56:11.594Z"
    }
   },
   "outputs": [],
   "source": [
    "pl = pd.read_pickle('/Users/melvinfolkers/Documents/github/staffing_automation/marketing automation/data/pickles/CAP_ds_rl_plaatsingen.pkl')"
   ]
  },
  {
   "cell_type": "code",
   "execution_count": null,
   "metadata": {
    "ExecuteTime": {
     "end_time": "2019-04-18T20:56:13.085553Z",
     "start_time": "2019-04-18T20:56:11.596Z"
    }
   },
   "outputs": [],
   "source": [
    "pl.to_csv('plaatsingenCAP.csv')"
   ]
  },
  {
   "cell_type": "code",
   "execution_count": null,
   "metadata": {},
   "outputs": [],
   "source": []
  },
  {
   "cell_type": "code",
   "execution_count": null,
   "metadata": {
    "ExecuteTime": {
     "end_time": "2019-04-18T20:56:13.086673Z",
     "start_time": "2019-04-18T20:56:11.599Z"
    }
   },
   "outputs": [],
   "source": [
    "push_to_azure(pl, 'ef_plaatsingen')"
   ]
  },
  {
   "cell_type": "code",
   "execution_count": null,
   "metadata": {},
   "outputs": [],
   "source": []
  }
 ],
 "metadata": {
  "kernelspec": {
   "display_name": "Python 3",
   "language": "python",
   "name": "python3"
  },
  "language_info": {
   "codemirror_mode": {
    "name": "ipython",
    "version": 3
   },
   "file_extension": ".py",
   "mimetype": "text/x-python",
   "name": "python",
   "nbconvert_exporter": "python",
   "pygments_lexer": "ipython3",
   "version": "3.6.5"
  },
  "toc": {
   "base_numbering": 1,
   "nav_menu": {},
   "number_sections": true,
   "sideBar": true,
   "skip_h1_title": true,
   "title_cell": "Overzicht",
   "title_sidebar": "Stappen",
   "toc_cell": true,
   "toc_position": {
    "height": "calc(100% - 180px)",
    "left": "10px",
    "top": "150px",
    "width": "301px"
   },
   "toc_section_display": true,
   "toc_window_display": true
  }
 },
 "nbformat": 4,
 "nbformat_minor": 2
}
