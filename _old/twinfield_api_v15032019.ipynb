{
 "cells": [
  {
   "cell_type": "markdown",
   "metadata": {},
   "source": [
    "<img src=\"https://static.wixstatic.com/media/a9ca5e_825bd4d39e7d468faf735b801fa3dea4~mv2.png/v1/fill/w_1458,h_246,al_c,usm_0.66_1.00_0.01/a9ca5e_825bd4d39e7d468faf735b801fa3dea4~mv2.png\" width=\"200\">"
   ]
  },
  {
   "cell_type": "markdown",
   "metadata": {},
   "source": [
    "# Twinfield api\n",
    " __Notebook voor het uitvragen van twinfield dataset__\n",
    " \n",
    " __Auteur:__ Melvin Folkers (Yellow Stacks B.V.)<br>\n",
    " __Versie:__ 29 januari 2018<br>\n",
    " __Doel:__ "
   ]
  },
  {
   "cell_type": "markdown",
   "metadata": {
    "toc": true
   },
   "source": [
    "<h1>Overzicht<span class=\"tocSkip\"></span></h1>\n",
    "<div class=\"toc\"><ul class=\"toc-item\"><li><span><a href=\"#parameters\" data-toc-modified-id=\"parameters-1\"><span class=\"toc-item-num\">1&nbsp;&nbsp;</span>parameters</a></span><ul class=\"toc-item\"><li><span><a href=\"#run-parameters\" data-toc-modified-id=\"run-parameters-1.1\"><span class=\"toc-item-num\">1.1&nbsp;&nbsp;</span>run parameters</a></span></li><li><span><a href=\"#import-libraries\" data-toc-modified-id=\"import-libraries-1.2\"><span class=\"toc-item-num\">1.2&nbsp;&nbsp;</span>import libraries</a></span></li><li><span><a href=\"#juno-settings\" data-toc-modified-id=\"juno-settings-1.3\"><span class=\"toc-item-num\">1.3&nbsp;&nbsp;</span>juno settings</a></span></li></ul></li><li><span><a href=\"#functions-and-classes\" data-toc-modified-id=\"functions-and-classes-2\"><span class=\"toc-item-num\">2&nbsp;&nbsp;</span>functions and classes</a></span><ul class=\"toc-item\"><li><span><a href=\"#General-functions\" data-toc-modified-id=\"General-functions-2.1\"><span class=\"toc-item-num\">2.1&nbsp;&nbsp;</span>General functions</a></span></li><li><span><a href=\"#session-id\" data-toc-modified-id=\"session-id-2.2\"><span class=\"toc-item-num\">2.2&nbsp;&nbsp;</span>session id</a></span></li><li><span><a href=\"#Officecodes\" data-toc-modified-id=\"Officecodes-2.3\"><span class=\"toc-item-num\">2.3&nbsp;&nbsp;</span>Officecodes</a></span></li><li><span><a href=\"#metadata\" data-toc-modified-id=\"metadata-2.4\"><span class=\"toc-item-num\">2.4&nbsp;&nbsp;</span>metadata</a></span></li><li><span><a href=\"#data\" data-toc-modified-id=\"data-2.5\"><span class=\"toc-item-num\">2.5&nbsp;&nbsp;</span>data</a></span></li><li><span><a href=\"#select-office\" data-toc-modified-id=\"select-office-2.6\"><span class=\"toc-item-num\">2.6&nbsp;&nbsp;</span>select office</a></span></li></ul></li><li><span><a href=\"#session-ID-Twinfield\" data-toc-modified-id=\"session-ID-Twinfield-3\"><span class=\"toc-item-num\">3&nbsp;&nbsp;</span>session ID Twinfield</a></span></li><li><span><a href=\"#Determine-offices\" data-toc-modified-id=\"Determine-offices-4\"><span class=\"toc-item-num\">4&nbsp;&nbsp;</span>Determine offices</a></span><ul class=\"toc-item\"><li><span><a href=\"#select-office\" data-toc-modified-id=\"select-office-4.1\"><span class=\"toc-item-num\">4.1&nbsp;&nbsp;</span>select office</a></span></li></ul></li><li><span><a href=\"#Browse-data\" data-toc-modified-id=\"Browse-data-5\"><span class=\"toc-item-num\">5&nbsp;&nbsp;</span>Browse data</a></span><ul class=\"toc-item\"><li><span><a href=\"#Metadata\" data-toc-modified-id=\"Metadata-5.1\"><span class=\"toc-item-num\">5.1&nbsp;&nbsp;</span>Metadata</a></span></li><li><span><a href=\"#Data\" data-toc-modified-id=\"Data-5.2\"><span class=\"toc-item-num\">5.2&nbsp;&nbsp;</span>Data</a></span></li></ul></li></ul></div>"
   ]
  },
  {
   "cell_type": "markdown",
   "metadata": {},
   "source": [
    "## parameters"
   ]
  },
  {
   "cell_type": "markdown",
   "metadata": {},
   "source": [
    "### run parameters"
   ]
  },
  {
   "cell_type": "code",
   "execution_count": 1,
   "metadata": {
    "ExecuteTime": {
     "end_time": "2019-03-18T09:13:00.764312Z",
     "start_time": "2019-03-18T09:13:00.760675Z"
    }
   },
   "outputs": [],
   "source": [
    "user = 'Python'\n",
    "password = 'U3RhZmZpbmcyMDE5IQ==\\n'\n",
    "organisation = 'Associates'"
   ]
  },
  {
   "cell_type": "markdown",
   "metadata": {
    "heading_collapsed": true
   },
   "source": [
    "### import libraries"
   ]
  },
  {
   "cell_type": "code",
   "execution_count": 2,
   "metadata": {
    "ExecuteTime": {
     "end_time": "2019-03-18T09:13:01.740413Z",
     "start_time": "2019-03-18T09:13:00.766542Z"
    },
    "hidden": true
   },
   "outputs": [],
   "source": [
    "import os \n",
    "import pandas as pd \n",
    "import math\n",
    "from datetime import date, timedelta\n",
    "import numpy as np\n",
    "import codecs\n",
    "import requests"
   ]
  },
  {
   "cell_type": "code",
   "execution_count": 3,
   "metadata": {
    "ExecuteTime": {
     "end_time": "2019-03-18T09:13:01.750793Z",
     "start_time": "2019-03-18T09:13:01.742371Z"
    },
    "hidden": true
   },
   "outputs": [],
   "source": [
    "import xml.etree.ElementTree as ET"
   ]
  },
  {
   "cell_type": "markdown",
   "metadata": {
    "heading_collapsed": true
   },
   "source": [
    "### juno settings"
   ]
  },
  {
   "cell_type": "code",
   "execution_count": 4,
   "metadata": {
    "ExecuteTime": {
     "end_time": "2019-03-18T09:13:01.954596Z",
     "start_time": "2019-03-18T09:13:01.752720Z"
    },
    "hidden": true
   },
   "outputs": [
    {
     "data": {
      "text/html": [
       "<style>.container { width:80% !important; }</style>"
      ],
      "text/plain": [
       "<IPython.core.display.HTML object>"
      ]
     },
     "metadata": {},
     "output_type": "display_data"
    }
   ],
   "source": [
    "from IPython.core.display import display, HTML\n",
    "display(HTML(\"<style>.container { width:80% !important; }</style>\")) # maakt de jupyter notebook cellen 100% breed\n",
    "from IPython.display import IFrame\n",
    "%matplotlib inline \n",
    "# voor het plotten van grafieken\n",
    "\n",
    "from IPython.core.interactiveshell import InteractiveShell\n",
    "InteractiveShell.ast_node_interactivity = \"all\" # om meerdere grafieken/tabellen in 1 cel te kunnen laten zien.\n",
    "\n",
    "pd.options.display.max_columns = None # laat alle kolommen zien\n",
    "pd.options.display.float_format = '{:,.2f}'.format\n",
    "\n",
    "from IPython.display import Image\n",
    "from IPython.core.display import HTML \n",
    "\n"
   ]
  },
  {
   "cell_type": "markdown",
   "metadata": {},
   "source": [
    "## functions and classes"
   ]
  },
  {
   "cell_type": "markdown",
   "metadata": {},
   "source": [
    "### General functions"
   ]
  },
  {
   "cell_type": "code",
   "execution_count": 5,
   "metadata": {
    "ExecuteTime": {
     "end_time": "2019-03-18T09:13:01.959823Z",
     "start_time": "2019-03-18T09:13:01.956736Z"
    }
   },
   "outputs": [],
   "source": [
    "def str_decoding(base64_str):\n",
    "    \n",
    "    decoded = codecs.decode(base64_str.encode(), 'base64').decode()\n",
    "\n",
    "    return decoded\n",
    "\n",
    "def str_encoding(str_input):\n",
    "    encoded = codecs.encode(str_input.encode(), 'base64')\n",
    "\n",
    "    return encoded"
   ]
  },
  {
   "cell_type": "markdown",
   "metadata": {},
   "source": [
    "### session id"
   ]
  },
  {
   "cell_type": "code",
   "execution_count": 6,
   "metadata": {
    "ExecuteTime": {
     "end_time": "2019-03-18T09:13:01.969285Z",
     "start_time": "2019-03-18T09:13:01.962297Z"
    }
   },
   "outputs": [],
   "source": [
    "class SessionParameters():\n",
    "\n",
    "    def __init__(self,user, pw, organisation):\n",
    "       \n",
    "        self.user = user\n",
    "        self.password = pw \n",
    "        self.organisation = organisation\n",
    "        \n",
    "        self.url =  'https://login.twinfield.com/webservices/session.asmx'\n",
    "        self.header = {'Content-Type':'text/xml',\n",
    "        'Accept-Charset':'utf-8'}\n",
    "        \n",
    "        self.ns = {'env': 'http://schemas.xmlsoap.org/soap/envelope/',\n",
    "                   'tw':'http://www.twinfield.com/'}\n",
    "        \n",
    "        self.body = f'''<?xml version=\"1.0\" encoding=\"utf-8\"?>\n",
    "        <soap:Envelope xmlns:soap=\"http://schemas.xmlsoap.org/soap/envelope/\" xmlns:xsi=\"http://www.w3.org/2001/XmlSchema-instance\" xmlns:xsd=\"http://www.w3.org/2001/XmlSchema\">\n",
    "          <soap:Body>\n",
    "            <Logon xmlns=\"http://www.twinfield.com/\">\n",
    "              <user>{user}</user>\n",
    "              <password>{str_decoding(password)}</password>\n",
    "              <organisation>{organisation}</organisation>\n",
    "            </Logon>\n",
    "          </soap:Body>\n",
    "        </soap:Envelope>'''\n",
    "    \n",
    "    \n",
    "    def parse_session_id(self, root):\n",
    "    \n",
    "        header = root.find('env:Header/tw:Header', self.ns)\n",
    "        session_id = header.find('tw:SessionID', self.ns).text\n",
    "    \n",
    "        return session_id\n",
    "    \n",
    "\n",
    "    def get_session_id(self, url, header, body):\n",
    "    \n",
    "        response = requests.post(url = url, headers = header , data = body)\n",
    "\n",
    "        if response:\n",
    "            session_id = SessionParameters.parse_session_id(self, root = ET.fromstring(response.text)) # lees de response uit\n",
    "        else:\n",
    "            print('niet gelukt om data binnen te halen')\n",
    "            session_id = response\n",
    "            \n",
    "            self.session_id = session_id\n",
    "\n",
    "        return session_id\n",
    "\n"
   ]
  },
  {
   "cell_type": "markdown",
   "metadata": {},
   "source": [
    "### Officecodes"
   ]
  },
  {
   "cell_type": "code",
   "execution_count": 7,
   "metadata": {
    "ExecuteTime": {
     "end_time": "2019-03-18T09:13:01.978215Z",
     "start_time": "2019-03-18T09:13:01.971897Z"
    }
   },
   "outputs": [],
   "source": [
    "class GetOfficeCodes():\n",
    "    \n",
    "    def __init__(self, session_id):\n",
    "\n",
    "        self.url = 'https://c4.twinfield.com/webservices/processxml.asmx?wsdl'\n",
    "\n",
    "        self.header = {'Content-Type':'text/xml',\n",
    "                'Accept-Charset':'utf-8'}\n",
    "\n",
    "        self.body = f'''<?xml version=\"1.0\" encoding=\"utf-8\"?>\n",
    "        <soapenv:Envelope xmlns:soapenv=\"http://schemas.xmlsoap.org/soap/envelope/\" xmlns:twin=\"http://www.twinfield.com/\">\n",
    "        <soapenv:Header>\n",
    "            <twin:Header>\n",
    "                 <twin:SessionID>{session_id}</twin:SessionID> \n",
    "              </twin:Header>\n",
    "           </soapenv:Header>\n",
    "           <soapenv:Body>\n",
    "              <twin:ProcessXmlString>\n",
    "                 <twin:xmlRequest><![CDATA[<list><type>offices</type></list>]]></twin:xmlRequest>\n",
    "              </twin:ProcessXmlString>\n",
    "           </soapenv:Body>\n",
    "        </soapenv:Envelope>'''\n",
    "\n",
    "        self.ns = {'env': 'http://schemas.xmlsoap.org/soap/envelope/',\n",
    "                       'tw':'http://www.twinfield.com/'}\n",
    "\n",
    "    def get_offices(self, url, header, body):\n",
    "\n",
    "        response = requests.post(url = url, headers = header , data = body)\n",
    "        \n",
    "        if response:\n",
    "            offices = GetOfficeCodes.parse_session_response(self, response)\n",
    "        else:\n",
    "            print('niet gelukt om data binnen te halen')\n",
    "            offices = pd.DataFrame()\n",
    "            \n",
    "        return offices\n",
    "\n",
    "    def parse_session_response(self, response):\n",
    "\n",
    "        root = ET.fromstring(response.text)\n",
    "\n",
    "        body = root.find('env:Body', self.ns)\n",
    "\n",
    "        data = body.find('tw:ProcessXmlStringResponse/tw:ProcessXmlStringResult', self.ns)\n",
    "\n",
    "        data = ET.fromstring(data.text)\n",
    "\n",
    "        df_ttl = pd.DataFrame()\n",
    "\n",
    "        for child in data:\n",
    "\n",
    "            df = pd.DataFrame(data = child.attrib, index = [child.text])\n",
    "            df_ttl = pd.concat([df_ttl , df], axis = 0)\n",
    "\n",
    "        return df_ttl\n"
   ]
  },
  {
   "cell_type": "markdown",
   "metadata": {},
   "source": [
    "### metadata"
   ]
  },
  {
   "cell_type": "code",
   "execution_count": 8,
   "metadata": {
    "ExecuteTime": {
     "end_time": "2019-03-18T09:13:01.986096Z",
     "start_time": "2019-03-18T09:13:01.980398Z"
    }
   },
   "outputs": [],
   "source": [
    "def get_metadata(office,session_id, code):\n",
    "    \n",
    "    xml = f'''<read>\n",
    "    <type>browse</type>\n",
    "    <office>{office}</office>\n",
    "    <code>{code}</code>\n",
    "    </read>'''\n",
    "    \n",
    "    body = f'''<?xml version=\"1.0\" encoding=\"utf-8\"?>\n",
    "        <soapenv:Envelope xmlns:soapenv=\"http://schemas.xmlsoap.org/soap/envelope/\" xmlns:twin=\"http://www.twinfield.com/\">\n",
    "        <soapenv:Header>\n",
    "            <twin:Header>\n",
    "            <twin:SessionID>{session_id}</twin:SessionID> \n",
    "              </twin:Header>\n",
    "           </soapenv:Header>\n",
    "           <soapenv:Body>\n",
    "              <twin:ProcessXmlString>\n",
    "                 <twin:xmlRequest><![CDATA[{xml}]]></twin:xmlRequest>\n",
    "              </twin:ProcessXmlString>\n",
    "           </soapenv:Body>\n",
    "        </soapenv:Envelope>'''\n",
    "    \n",
    "    \n",
    "    response = requests.post(url = auth.url, headers = auth.header , data = body)\n",
    "\n",
    "    root = ET.fromstring(response.text)\n",
    "\n",
    "    body = root.find('env:Body', auth.ns)\n",
    "\n",
    "    data = body.find('tw:ProcessXmlStringResponse/tw:ProcessXmlStringResult', auth.ns)\n",
    "\n",
    "    data = ET.fromstring(data.text)\n",
    "\n",
    "    \n",
    "    metadata = parse_metadata_response(data)\n",
    "    \n",
    "    return metadata\n",
    "\n",
    "\n",
    "def parse_metadata_response(data):\n",
    "    \n",
    "    \n",
    "    col = data.find('columns')\n",
    "    \n",
    "    rec = list()\n",
    "\n",
    "    for records in col:\n",
    "      \n",
    "        ttl = dict()\n",
    "        for record in records:\n",
    "            ttl[record.tag] = record.text\n",
    "\n",
    "        rec.append(ttl)\n",
    "\n",
    "    df = pd.DataFrame(rec)\n",
    "    \n",
    "    return df\n",
    "    "
   ]
  },
  {
   "cell_type": "markdown",
   "metadata": {},
   "source": [
    "### data"
   ]
  },
  {
   "cell_type": "markdown",
   "metadata": {
    "heading_collapsed": true
   },
   "source": [
    "### select office"
   ]
  },
  {
   "cell_type": "code",
   "execution_count": 9,
   "metadata": {
    "ExecuteTime": {
     "end_time": "2019-03-18T09:13:01.992686Z",
     "start_time": "2019-03-18T09:13:01.988185Z"
    },
    "hidden": true
   },
   "outputs": [],
   "source": [
    "def select_office(office,session_id):\n",
    "    \n",
    "    \n",
    "    print('selecting office: {office}...')\n",
    "    \n",
    "    url = 'https://c4.twinfield.com/webservices/session.asmx?wsdl'\n",
    "\n",
    "    body = f'''<?xml version=\"1.0\" encoding=\"utf-8\"?>\n",
    "    <soap:Envelope xmlns:soap=\"http://schemas.xmlsoap.org/soap/envelope/\" xmlns:xsi=\"http://www.w3.org/2001/XMLSchema-instance\" xmlns:xsd=\"http://www.w3.org/2001/XMLSchema\">\n",
    "        <soap:Header>\n",
    "            <Header xmlns=\"http://www.twinfield.com/\">\n",
    "                <SessionID>{session_id}</SessionID>\n",
    "            </Header>\n",
    "        </soap:Header>\n",
    "        <soap:Body>\n",
    "            <SelectCompany xmlns=\"http://www.twinfield.com/\">\n",
    "                <company>{office}</company>\n",
    "            </SelectCompany>\n",
    "        </soap:Body>\n",
    "    </soap:Envelope>'''\n",
    "\n",
    "    response = requests.post(url = url, headers = auth.header , data = body)\n",
    "\n",
    "    root = ET.fromstring(response.text)\n",
    "\n",
    "    body = root.find('env:Body', auth.ns)\n",
    "\n",
    "    data = body.find('tw:SelectCompanyResponse/tw:SelectCompanyResult', auth.ns)\n",
    "\n",
    "    pass_fail = data.text\n",
    "    \n",
    "    print(pass_fail)\n",
    "\n",
    "\n"
   ]
  },
  {
   "cell_type": "markdown",
   "metadata": {},
   "source": [
    "## session ID Twinfield"
   ]
  },
  {
   "cell_type": "code",
   "execution_count": 10,
   "metadata": {
    "ExecuteTime": {
     "end_time": "2019-03-18T09:13:01.998457Z",
     "start_time": "2019-03-18T09:13:01.994641Z"
    }
   },
   "outputs": [],
   "source": [
    "login = SessionParameters(user, password, organisation)"
   ]
  },
  {
   "cell_type": "code",
   "execution_count": 11,
   "metadata": {
    "ExecuteTime": {
     "end_time": "2019-03-18T09:13:02.254690Z",
     "start_time": "2019-03-18T09:13:02.000190Z"
    }
   },
   "outputs": [],
   "source": [
    "session_id = login.get_session_id(login.url, login.header, login.body)"
   ]
  },
  {
   "cell_type": "code",
   "execution_count": 12,
   "metadata": {
    "ExecuteTime": {
     "end_time": "2019-03-18T09:13:02.261692Z",
     "start_time": "2019-03-18T09:13:02.257718Z"
    }
   },
   "outputs": [
    {
     "data": {
      "text/plain": [
       "'c635ba38-587e-413f-9de4-18f6de48a75f'"
      ]
     },
     "execution_count": 12,
     "metadata": {},
     "output_type": "execute_result"
    }
   ],
   "source": [
    "session_id"
   ]
  },
  {
   "cell_type": "code",
   "execution_count": 13,
   "metadata": {
    "ExecuteTime": {
     "end_time": "2019-03-18T09:13:02.269454Z",
     "start_time": "2019-03-18T09:13:02.264056Z"
    }
   },
   "outputs": [
    {
     "name": "stdout",
     "output_type": "stream",
     "text": [
      "session id: c635ba38-587e-413f-9de4-18f6de48a75f\n"
     ]
    }
   ],
   "source": [
    "print(f'session id: {session_id}')"
   ]
  },
  {
   "cell_type": "markdown",
   "metadata": {},
   "source": [
    "## Determine offices"
   ]
  },
  {
   "cell_type": "code",
   "execution_count": 14,
   "metadata": {
    "ExecuteTime": {
     "end_time": "2019-03-18T09:13:02.274816Z",
     "start_time": "2019-03-18T09:13:02.272154Z"
    }
   },
   "outputs": [],
   "source": [
    "auth = GetOfficeCodes(session_id)"
   ]
  },
  {
   "cell_type": "code",
   "execution_count": 15,
   "metadata": {
    "ExecuteTime": {
     "end_time": "2019-03-18T09:13:02.488914Z",
     "start_time": "2019-03-18T09:13:02.277093Z"
    }
   },
   "outputs": [],
   "source": [
    "offices = auth.get_offices(auth.url, auth.header, auth.body)"
   ]
  },
  {
   "cell_type": "code",
   "execution_count": 16,
   "metadata": {
    "ExecuteTime": {
     "end_time": "2019-03-18T09:13:02.493646Z",
     "start_time": "2019-03-18T09:13:02.490507Z"
    }
   },
   "outputs": [
    {
     "data": {
      "text/plain": [
       "(61, 2)"
      ]
     },
     "execution_count": 16,
     "metadata": {},
     "output_type": "execute_result"
    }
   ],
   "source": [
    "offices.shape"
   ]
  },
  {
   "cell_type": "markdown",
   "metadata": {},
   "source": [
    "### select office"
   ]
  },
  {
   "cell_type": "code",
   "execution_count": 46,
   "metadata": {
    "ExecuteTime": {
     "end_time": "2019-03-18T09:20:43.994926Z",
     "start_time": "2019-03-18T09:20:43.992381Z"
    }
   },
   "outputs": [],
   "source": [
    "office = '1060266'\n",
    "code = '030_1'"
   ]
  },
  {
   "cell_type": "code",
   "execution_count": 37,
   "metadata": {
    "ExecuteTime": {
     "end_time": "2019-03-18T09:19:45.118691Z",
     "start_time": "2019-03-18T09:19:44.982126Z"
    }
   },
   "outputs": [
    {
     "name": "stdout",
     "output_type": "stream",
     "text": [
      "selecting office: {office}...\n",
      "Ok\n"
     ]
    }
   ],
   "source": [
    "select_office(office, session_id)"
   ]
  },
  {
   "cell_type": "markdown",
   "metadata": {},
   "source": [
    "## Browse data"
   ]
  },
  {
   "cell_type": "markdown",
   "metadata": {},
   "source": [
    "### Metadata "
   ]
  },
  {
   "cell_type": "code",
   "execution_count": 38,
   "metadata": {
    "ExecuteTime": {
     "end_time": "2019-03-18T09:19:47.346455Z",
     "start_time": "2019-03-18T09:19:47.218352Z"
    }
   },
   "outputs": [],
   "source": [
    "metadata = get_metadata(office = office, code = code, session_id= session_id)"
   ]
  },
  {
   "cell_type": "code",
   "execution_count": 39,
   "metadata": {
    "ExecuteTime": {
     "end_time": "2019-03-18T09:19:47.474560Z",
     "start_time": "2019-03-18T09:19:47.472165Z"
    }
   },
   "outputs": [],
   "source": [
    "#metadata = metadata[(['field', 'label'])]"
   ]
  },
  {
   "cell_type": "code",
   "execution_count": 40,
   "metadata": {
    "ExecuteTime": {
     "end_time": "2019-03-18T09:19:47.758956Z",
     "start_time": "2019-03-18T09:19:47.755264Z"
    }
   },
   "outputs": [],
   "source": [
    "metadata.set_index('field', inplace = True)\n",
    "\n",
    "fieldmapping = metadata[ 'label'].to_dict()"
   ]
  },
  {
   "cell_type": "code",
   "execution_count": 45,
   "metadata": {
    "ExecuteTime": {
     "end_time": "2019-03-18T09:19:58.967269Z",
     "start_time": "2019-03-18T09:19:58.951375Z"
    }
   },
   "outputs": [
    {
     "data": {
      "text/html": [
       "<div>\n",
       "<style scoped>\n",
       "    .dataframe tbody tr th:only-of-type {\n",
       "        vertical-align: middle;\n",
       "    }\n",
       "\n",
       "    .dataframe tbody tr th {\n",
       "        vertical-align: top;\n",
       "    }\n",
       "\n",
       "    .dataframe thead th {\n",
       "        text-align: right;\n",
       "    }\n",
       "</style>\n",
       "<table border=\"1\" class=\"dataframe\">\n",
       "  <thead>\n",
       "    <tr style=\"text-align: right;\">\n",
       "      <th></th>\n",
       "      <th>ask</th>\n",
       "      <th>finderparam</th>\n",
       "      <th>from</th>\n",
       "      <th>label</th>\n",
       "      <th>operator</th>\n",
       "      <th>to</th>\n",
       "      <th>visible</th>\n",
       "    </tr>\n",
       "    <tr>\n",
       "      <th>field</th>\n",
       "      <th></th>\n",
       "      <th></th>\n",
       "      <th></th>\n",
       "      <th></th>\n",
       "      <th></th>\n",
       "      <th></th>\n",
       "      <th></th>\n",
       "    </tr>\n",
       "  </thead>\n",
       "  <tbody>\n",
       "    <tr>\n",
       "      <th>fin.trs.head.office</th>\n",
       "      <td>false</td>\n",
       "      <td>None</td>\n",
       "      <td>None</td>\n",
       "      <td>Administratie</td>\n",
       "      <td>none</td>\n",
       "      <td>None</td>\n",
       "      <td>true</td>\n",
       "    </tr>\n",
       "    <tr>\n",
       "      <th>fin.trs.head.officename</th>\n",
       "      <td>false</td>\n",
       "      <td>None</td>\n",
       "      <td>None</td>\n",
       "      <td>Adm.naam</td>\n",
       "      <td>none</td>\n",
       "      <td>None</td>\n",
       "      <td>true</td>\n",
       "    </tr>\n",
       "    <tr>\n",
       "      <th>fin.trs.head.yearperiod</th>\n",
       "      <td>true</td>\n",
       "      <td>None</td>\n",
       "      <td>None</td>\n",
       "      <td>Jaar/periode (JJJJ/PP)</td>\n",
       "      <td>between</td>\n",
       "      <td>None</td>\n",
       "      <td>false</td>\n",
       "    </tr>\n",
       "    <tr>\n",
       "      <th>fin.trs.head.status</th>\n",
       "      <td>true</td>\n",
       "      <td>None</td>\n",
       "      <td>normal</td>\n",
       "      <td>Status</td>\n",
       "      <td>equal</td>\n",
       "      <td>None</td>\n",
       "      <td>true</td>\n",
       "    </tr>\n",
       "    <tr>\n",
       "      <th>fin.trs.line.dim1</th>\n",
       "      <td>true</td>\n",
       "      <td>None</td>\n",
       "      <td>None</td>\n",
       "      <td>Grootboekrek.</td>\n",
       "      <td>between</td>\n",
       "      <td>None</td>\n",
       "      <td>true</td>\n",
       "    </tr>\n",
       "    <tr>\n",
       "      <th>fin.trs.line.dim1name</th>\n",
       "      <td>false</td>\n",
       "      <td>None</td>\n",
       "      <td>None</td>\n",
       "      <td>Grootboekrek.naam</td>\n",
       "      <td>none</td>\n",
       "      <td>None</td>\n",
       "      <td>true</td>\n",
       "    </tr>\n",
       "    <tr>\n",
       "      <th>fin.trs.line.dim1type</th>\n",
       "      <td>false</td>\n",
       "      <td>None</td>\n",
       "      <td>None</td>\n",
       "      <td>Dimensietype 1</td>\n",
       "      <td>none</td>\n",
       "      <td>None</td>\n",
       "      <td>true</td>\n",
       "    </tr>\n",
       "    <tr>\n",
       "      <th>fin.trs.line.valuesigned</th>\n",
       "      <td>false</td>\n",
       "      <td>None</td>\n",
       "      <td>None</td>\n",
       "      <td>Bedrag</td>\n",
       "      <td>none</td>\n",
       "      <td>None</td>\n",
       "      <td>true</td>\n",
       "    </tr>\n",
       "    <tr>\n",
       "      <th>fin.trs.line.basevaluesigned</th>\n",
       "      <td>false</td>\n",
       "      <td>None</td>\n",
       "      <td>None</td>\n",
       "      <td>Basisbedrag</td>\n",
       "      <td>none</td>\n",
       "      <td>None</td>\n",
       "      <td>true</td>\n",
       "    </tr>\n",
       "    <tr>\n",
       "      <th>fin.trs.line.repvaluesigned</th>\n",
       "      <td>false</td>\n",
       "      <td>None</td>\n",
       "      <td>None</td>\n",
       "      <td>Rapportagebedrag</td>\n",
       "      <td>none</td>\n",
       "      <td>None</td>\n",
       "      <td>true</td>\n",
       "    </tr>\n",
       "    <tr>\n",
       "      <th>fin.trs.head.balanceregimeprompt</th>\n",
       "      <td>true</td>\n",
       "      <td>None</td>\n",
       "      <td>Generic</td>\n",
       "      <td>Regime</td>\n",
       "      <td>equal</td>\n",
       "      <td>None</td>\n",
       "      <td>false</td>\n",
       "    </tr>\n",
       "  </tbody>\n",
       "</table>\n",
       "</div>"
      ],
      "text/plain": [
       "                                    ask finderparam     from  \\\n",
       "field                                                          \n",
       "fin.trs.head.office               false        None     None   \n",
       "fin.trs.head.officename           false        None     None   \n",
       "fin.trs.head.yearperiod            true        None     None   \n",
       "fin.trs.head.status                true        None   normal   \n",
       "fin.trs.line.dim1                  true        None     None   \n",
       "fin.trs.line.dim1name             false        None     None   \n",
       "fin.trs.line.dim1type             false        None     None   \n",
       "fin.trs.line.valuesigned          false        None     None   \n",
       "fin.trs.line.basevaluesigned      false        None     None   \n",
       "fin.trs.line.repvaluesigned       false        None     None   \n",
       "fin.trs.head.balanceregimeprompt   true        None  Generic   \n",
       "\n",
       "                                                   label operator    to  \\\n",
       "field                                                                     \n",
       "fin.trs.head.office                        Administratie     none  None   \n",
       "fin.trs.head.officename                         Adm.naam     none  None   \n",
       "fin.trs.head.yearperiod           Jaar/periode (JJJJ/PP)  between  None   \n",
       "fin.trs.head.status                               Status    equal  None   \n",
       "fin.trs.line.dim1                          Grootboekrek.  between  None   \n",
       "fin.trs.line.dim1name                  Grootboekrek.naam     none  None   \n",
       "fin.trs.line.dim1type                     Dimensietype 1     none  None   \n",
       "fin.trs.line.valuesigned                          Bedrag     none  None   \n",
       "fin.trs.line.basevaluesigned                 Basisbedrag     none  None   \n",
       "fin.trs.line.repvaluesigned             Rapportagebedrag     none  None   \n",
       "fin.trs.head.balanceregimeprompt                  Regime    equal  None   \n",
       "\n",
       "                                 visible  \n",
       "field                                     \n",
       "fin.trs.head.office                 true  \n",
       "fin.trs.head.officename             true  \n",
       "fin.trs.head.yearperiod            false  \n",
       "fin.trs.head.status                 true  \n",
       "fin.trs.line.dim1                   true  \n",
       "fin.trs.line.dim1name               true  \n",
       "fin.trs.line.dim1type               true  \n",
       "fin.trs.line.valuesigned            true  \n",
       "fin.trs.line.basevaluesigned        true  \n",
       "fin.trs.line.repvaluesigned         true  \n",
       "fin.trs.head.balanceregimeprompt   false  "
      ]
     },
     "execution_count": 45,
     "metadata": {},
     "output_type": "execute_result"
    }
   ],
   "source": [
    "metadata"
   ]
  },
  {
   "cell_type": "markdown",
   "metadata": {
    "heading_collapsed": true
   },
   "source": [
    "### Data"
   ]
  },
  {
   "cell_type": "code",
   "execution_count": 41,
   "metadata": {
    "ExecuteTime": {
     "end_time": "2019-03-18T09:19:48.712639Z",
     "start_time": "2019-03-18T09:19:48.706323Z"
    },
    "hidden": true
   },
   "outputs": [],
   "source": [
    "def get_data(office,session_id, code):\n",
    "    \n",
    "    xml = f'''<read>\n",
    "    <type>browse</type>\n",
    "    <office>{office}</office>\n",
    "    <code>{code}</code>\n",
    "    </read>'''\n",
    "    \n",
    "    body = f'''<?xml version=\"1.0\" encoding=\"utf-8\"?>\n",
    "        <soapenv:Envelope xmlns:soapenv=\"http://schemas.xmlsoap.org/soap/envelope/\" xmlns:twin=\"http://www.twinfield.com/\">\n",
    "        <soapenv:Header>\n",
    "            <twin:Header>\n",
    "            <twin:SessionID>{session_id}</twin:SessionID> \n",
    "              </twin:Header>\n",
    "           </soapenv:Header>\n",
    "           <soapenv:Body>\n",
    "              <twin:ProcessXmlString>\n",
    "                 <twin:xmlRequest><![CDATA[{xml}]]></twin:xmlRequest>\n",
    "              </twin:ProcessXmlString>\n",
    "           </soapenv:Body>\n",
    "        </soapenv:Envelope>'''\n",
    "    \n",
    "    response = requests.post(url = auth.url, headers = auth.header , data = body)\n",
    "\n",
    "    root = ET.fromstring(response.text)\n",
    "\n",
    "    body = root.find('env:Body', auth.ns)\n",
    "\n",
    "    data = body.find('tw:ProcessXmlStringResponse/tw:ProcessXmlStringResult', auth.ns)\n",
    "\n",
    "    #data = ET.fromstring(data.text)\n",
    "    \n",
    "    return data\n",
    "\n",
    "\n",
    "def parse_data_response(data):\n",
    "    \n",
    "    \n",
    "    col = data.find('columns')\n",
    "    \n",
    "    rec = list()\n",
    "\n",
    "    for records in col:\n",
    "      \n",
    "        ttl = dict()\n",
    "        for record in records:\n",
    "            ttl[record.tag] = record.text\n",
    "\n",
    "        rec.append(ttl)\n",
    "\n",
    "    df = pd.DataFrame(rec)\n",
    "    \n",
    "    return df\n",
    "    "
   ]
  },
  {
   "cell_type": "code",
   "execution_count": 42,
   "metadata": {
    "ExecuteTime": {
     "end_time": "2019-03-18T09:19:49.143532Z",
     "start_time": "2019-03-18T09:19:49.141147Z"
    },
    "hidden": true
   },
   "outputs": [],
   "source": [
    "#data = get_data(office, session_id, code)"
   ]
  },
  {
   "cell_type": "markdown",
   "metadata": {},
   "source": [
    "# Development"
   ]
  },
  {
   "cell_type": "code",
   "execution_count": 43,
   "metadata": {
    "ExecuteTime": {
     "end_time": "2019-03-18T09:19:49.624698Z",
     "start_time": "2019-03-18T09:19:49.622160Z"
    }
   },
   "outputs": [],
   "source": [
    "code = '030_1'\n",
    "period = '2019'"
   ]
  },
  {
   "cell_type": "code",
   "execution_count": 44,
   "metadata": {
    "ExecuteTime": {
     "end_time": "2019-03-18T09:19:50.057186Z",
     "start_time": "2019-03-18T09:19:49.970567Z"
    }
   },
   "outputs": [],
   "source": [
    "body = f'''<?xml version=\"1.0\" encoding=\"utf-16\"?>\n",
    "<soap:Envelope xmlns:soap=\"http://schemas.xmlsoap.org/soap/envelope/\" xmlns:xsi=\"http://www.w3.org/2001/XMLSchema-instance\" xmlns:xsd=\"http://www.w3.org/2001/XMLSchema\">\n",
    "  <soap:Header>\n",
    "\t <Header xmlns=\"http://www.twinfield.com/\">\n",
    "\t  <SessionID>{session_id}</SessionID>\n",
    "\t</Header>\n",
    "  </soap:Header>\n",
    "  <soap:Body>\n",
    "\t <ProcessXmlDocument xmlns=\"http://www.twinfield.com/\">\n",
    "\t\t<xmlRequest>\n",
    "<columns code=\"{code}\">\n",
    "<column xmlns=\"\">\n",
    "      <field>fin.trs.head.office</field>\n",
    "   </column>\n",
    "<column xmlns=\"\">\n",
    "      <field>fin.trs.head.officename</field>\n",
    "      <label>Adm.naam</label>\n",
    "      <visible>true</visible>\n",
    "   </column> \n",
    "   <column xmlns=\"\">\n",
    "      <field>fin.trs.head.yearperiod</field>\n",
    "      <label>jaar/periode</label>\n",
    "      <visible>false</visible>\n",
    "      <ask>true</ask>\n",
    "      <operator>between</operator>\n",
    "      <from>{period}/00</from>\n",
    "      <to>{period}/55</to>\n",
    "   </column> \n",
    "<column xmlns=\"\">\n",
    "      <field>fin.trs.head.year</field>\n",
    "      <label>Jaar</label>\n",
    "      <visible>true</visible>\n",
    "   </column>\n",
    "<column xmlns=\"\">\n",
    "      <field>fin.trs.head.period</field>\n",
    "      <label>Periode</label>\n",
    "      <visible>true</visible>\n",
    "   </column>\n",
    "<column xmlns=\"\">\n",
    "      <field>fin.trs.head.code</field>\n",
    "      <label>Dagboek</label>\n",
    "      <visible>true</visible>\n",
    "   </column>\n",
    "<column xmlns=\"\">\n",
    "      <field>fin.trs.head.number</field>\n",
    "      <label>Boekingsnummer</label>\n",
    "      <visible>true</visible>\n",
    "   </column>\n",
    "<column xmlns=\"\">\n",
    "      <field>fin.trs.head.status</field>\n",
    "      <label>Status</label>\n",
    "      <visible>true</visible>\n",
    "   </column>\n",
    "<column xmlns=\"\">\n",
    "      <field>fin.trs.head.date</field>\n",
    "      <label>Boekdatum</label>\n",
    "      <visible>true</visible>\n",
    "   </column>\n",
    "<column xmlns=\"\">\n",
    "      <field>fin.trs.head.curcode</field>\n",
    "      <label>Valuta</label>\n",
    "      <visible>true</visible>\n",
    "   </column>\n",
    "<column xmlns=\"\">\n",
    "      <field>fin.trs.head.relationname</field>\n",
    "      <label>Relatienaam</label>\n",
    "      <visible>true</visible>\n",
    "   </column>\n",
    "<column xmlns=\"\">\n",
    "      <field>fin.trs.head.inpdate</field>\n",
    "      <label>Invoerdatum</label>\n",
    "      <visible>true</visible>\n",
    "   </column>\n",
    "<column xmlns=\"\">\n",
    "      <field>fin.trs.head.username</field>\n",
    "      <label>Gebruikersnaam</label>\n",
    "      <visible>true</visible>\n",
    "   </column>\n",
    "<column xmlns=\"\">\n",
    "      <field>fin.trs.line.dim1</field>\n",
    "      <label>Grootboekrek.</label>\n",
    "      <visible>true</visible>\n",
    "   </column>\n",
    "<column xmlns=\"\">\n",
    "      <field>fin.trs.line.dim1name</field>\n",
    "      <label>Grootboekrek.naam</label>\n",
    "      <visible>true</visible>\n",
    "   </column>\n",
    "<column xmlns=\"\">\n",
    "      <field>fin.trs.line.dim1type</field>\n",
    "      <label>Dimensietype 1</label>\n",
    "      <visible>true</visible>\n",
    "   </column>\n",
    "<column xmlns=\"\">\n",
    "      <field>fin.trs.line.dim2</field>\n",
    "      <label>Kpl./rel.</label>\n",
    "      <visible>true</visible>\n",
    "   </column>\n",
    "<column xmlns=\"\">\n",
    "      <field>fin.trs.line.dim2name</field>\n",
    "      <label>Kpl.-/rel.naam</label>\n",
    "      <visible>true</visible>\n",
    "   </column>\n",
    "<column xmlns=\"\">\n",
    "      <field>fin.trs.line.dim2type</field>\n",
    "      <label>Dimensietype 2</label>\n",
    "      <visible>true</visible>\n",
    "   </column>\n",
    "<column xmlns=\"\">\n",
    "      <field>fin.trs.line.dim3</field>\n",
    "      <label>Act./proj.</label>\n",
    "      <visible>true</visible>\n",
    "   </column>\n",
    "<column xmlns=\"\">\n",
    "      <field>fin.trs.line.dim3name</field>\n",
    "      <label>Act.-/proj.naam</label>\n",
    "      <visible>true</visible>\n",
    "   </column>\n",
    "<column xmlns=\"\">\n",
    "      <field>fin.trs.line.dim3type</field>\n",
    "      <label>Dimensietype 3</label>\n",
    "      <visible>true</visible>\n",
    "   </column>\n",
    "<column xmlns=\"\">\n",
    "      <field>fin.trs.line.valuesigned</field>\n",
    "      <label>Bedrag</label>\n",
    "      <visible>true</visible>\n",
    "   </column>\n",
    "<column xmlns=\"\">\n",
    "      <field>fin.trs.line.basevaluesigned</field>\n",
    "      <label>Basisbedrag</label>\n",
    "      <visible>true</visible>\n",
    "   </column>\n",
    "<column xmlns=\"\">\n",
    "      <field>fin.trs.line.repvaluesigned</field>\n",
    "      <label>Rapportagebedrag</label>\n",
    "      <visible>true</visible>\n",
    "   </column>\n",
    "<column xmlns=\"\">\n",
    "      <field>fin.trs.line.debitcredit</field>\n",
    "      <label>D/C</label>\n",
    "      <visible>true</visible>\n",
    "   </column>\n",
    "<column xmlns=\"\">\n",
    "      <field>fin.trs.line.vatcode</field>\n",
    "      <label>Btw-code</label>\n",
    "      <visible>true</visible>\n",
    "   </column>\n",
    "<column xmlns=\"\">\n",
    "      <field>fin.trs.line.vatbasevaluesigned</field>\n",
    "      <label>Btw-bedrag</label>\n",
    "      <visible>true</visible>\n",
    "   </column>\n",
    "<column xmlns=\"\">\n",
    "      <field>fin.trs.line.quantity</field>\n",
    "      <label>Aantal</label>\n",
    "      <visible>true</visible>\n",
    "   </column>\n",
    "<column xmlns=\"\">\n",
    "      <field>fin.trs.line.chequenumber</field>\n",
    "      <label>Cheque</label>\n",
    "      <visible>true</visible>\n",
    "   </column>\n",
    "<column xmlns=\"\">\n",
    "      <field>fin.trs.line.description</field>\n",
    "      <label>Omschrijving</label>\n",
    "      <visible>true</visible>\n",
    "   </column>\n",
    "<column xmlns=\"\">\n",
    "      <field>fin.trs.line.invnumber</field>\n",
    "      <label>Factuurnummer</label>\n",
    "      <visible>true</visible>\n",
    "   </column>\n",
    "<column xmlns=\"\">\n",
    "      <field>fin.trs.line.dim1group1</field>\n",
    "      <label>Groep 1</label>\n",
    "      <visible>true</visible>\n",
    "   </column>\n",
    "<column xmlns=\"\">\n",
    "      <field>fin.trs.line.dim1group1name</field>\n",
    "      <label>Groepnaam 1</label>\n",
    "      <visible>true</visible>\n",
    "   </column>\n",
    "<column xmlns=\"\">\n",
    "      <field>fin.trs.line.dim1group2</field>\n",
    "      <label>Groep 2</label>\n",
    "      <visible>true</visible>\n",
    "   </column>\n",
    "<column xmlns=\"\">\n",
    "      <field>fin.trs.line.dim1group2name</field>\n",
    "      <label>Groepnaam 2</label>\n",
    "      <visible>true</visible>\n",
    "   </column>\n",
    "<column xmlns=\"\">\n",
    "      <field>fin.trs.line.dim1group3</field>\n",
    "      <label>Groep 3</label>\n",
    "      <visible>true</visible>\n",
    "   </column>\n",
    "<column xmlns=\"\">\n",
    "      <field>fin.trs.line.dim1group3name</field>\n",
    "      <label>Groepnaam 3</label>\n",
    "      <visible>true</visible>\n",
    "   </column>\n",
    "<column xmlns=\"\">\n",
    "      <field>fin.trs.line.freetext1</field>\n",
    "      <label>Vrij tekstveld 1</label>\n",
    "      <visible>true</visible>\n",
    "   </column>\n",
    "<column xmlns=\"\">\n",
    "      <field>fin.trs.line.freetext2</field>\n",
    "      <label>Vrij tekstveld 2</label>\n",
    "      <visible>true</visible>\n",
    "   </column>\n",
    "<column xmlns=\"\">\n",
    "      <field>fin.trs.line.freetext3</field>\n",
    "      <label>Vrij tekstveld 3</label>\n",
    "      <visible>true</visible>\n",
    "   </column>\n",
    "<column xmlns=\"\">\n",
    "      <field>fin.trs.head.origin</field>\n",
    "      <label>Boekingsoorsprong</label>\n",
    "      <visible>true</visible>\n",
    "   </column>\n",
    "<column xmlns=\"\">\n",
    "      <field>fin.trs.mng.type</field>\n",
    "      <label>transactie type groep</label>\n",
    "      <visible>true</visible>\n",
    "   </column>\n",
    "</columns>\n",
    "\t\t</xmlRequest>\n",
    "\t</ProcessXmlDocument>\n",
    "  </soap:Body>\n",
    "</soap:Envelope>'''"
   ]
  },
  {
   "cell_type": "code",
   "execution_count": 26,
   "metadata": {
    "ExecuteTime": {
     "end_time": "2019-03-18T09:13:17.695771Z",
     "start_time": "2019-03-18T09:13:02.876385Z"
    }
   },
   "outputs": [],
   "source": [
    "response = requests.post(url = auth.url, headers = auth.header , data = body)\n",
    "root = ET.fromstring(response.text)\n",
    "body = root.find('env:Body', auth.ns)\n",
    "data = body.find('tw:ProcessXmlDocumentResponse/tw:ProcessXmlDocumentResult', auth.ns)"
   ]
  },
  {
   "cell_type": "code",
   "execution_count": 27,
   "metadata": {
    "ExecuteTime": {
     "end_time": "2019-03-18T09:13:17.703152Z",
     "start_time": "2019-03-18T09:13:17.697821Z"
    }
   },
   "outputs": [],
   "source": [
    "test = data.find('browse')\n",
    "tr = test.findall('tr')"
   ]
  },
  {
   "cell_type": "code",
   "execution_count": 28,
   "metadata": {
    "ExecuteTime": {
     "end_time": "2019-03-18T09:13:18.313291Z",
     "start_time": "2019-03-18T09:13:17.705418Z"
    }
   },
   "outputs": [],
   "source": [
    "ttl_records = list() \n",
    "\n",
    "for trans in tr:\n",
    "    \n",
    "    info = dict()\n",
    "    \n",
    "    for col in trans:\n",
    "        \n",
    "        val = col.text\n",
    "        \n",
    "        if 'field' in  col.attrib.keys():\n",
    "            name = col.attrib['field']\n",
    "\n",
    "            info[name] = val\n",
    "    \n",
    "    ttl_records.append(info)"
   ]
  },
  {
   "cell_type": "code",
   "execution_count": 29,
   "metadata": {
    "ExecuteTime": {
     "end_time": "2019-03-18T09:13:18.595674Z",
     "start_time": "2019-03-18T09:13:18.315651Z"
    }
   },
   "outputs": [],
   "source": [
    "data = pd.DataFrame(ttl_records)"
   ]
  },
  {
   "cell_type": "code",
   "execution_count": 30,
   "metadata": {
    "ExecuteTime": {
     "end_time": "2019-03-18T09:13:18.603375Z",
     "start_time": "2019-03-18T09:13:18.598608Z"
    }
   },
   "outputs": [
    {
     "data": {
      "text/plain": [
       "(20804, 41)"
      ]
     },
     "execution_count": 30,
     "metadata": {},
     "output_type": "execute_result"
    }
   ],
   "source": [
    "data.shape"
   ]
  },
  {
   "cell_type": "code",
   "execution_count": 31,
   "metadata": {
    "ExecuteTime": {
     "end_time": "2019-03-18T09:13:18.637291Z",
     "start_time": "2019-03-18T09:13:18.606210Z"
    }
   },
   "outputs": [],
   "source": [
    "data.rename(fieldmapping, axis = 1, inplace = True)"
   ]
  },
  {
   "cell_type": "code",
   "execution_count": 32,
   "metadata": {
    "ExecuteTime": {
     "end_time": "2019-03-18T09:13:18.642882Z",
     "start_time": "2019-03-18T09:13:18.639793Z"
    }
   },
   "outputs": [],
   "source": [
    "#data.dropna(axis = 1, inplace = True)"
   ]
  },
  {
   "cell_type": "code",
   "execution_count": null,
   "metadata": {},
   "outputs": [],
   "source": []
  }
 ],
 "metadata": {
  "kernelspec": {
   "display_name": "Python 3",
   "language": "python",
   "name": "python3"
  },
  "language_info": {
   "codemirror_mode": {
    "name": "ipython",
    "version": 3
   },
   "file_extension": ".py",
   "mimetype": "text/x-python",
   "name": "python",
   "nbconvert_exporter": "python",
   "pygments_lexer": "ipython3",
   "version": "3.6.5"
  },
  "toc": {
   "base_numbering": 1,
   "nav_menu": {},
   "number_sections": true,
   "sideBar": true,
   "skip_h1_title": true,
   "title_cell": "Overzicht",
   "title_sidebar": "Stappen",
   "toc_cell": true,
   "toc_position": {
    "height": "calc(100% - 180px)",
    "left": "10px",
    "top": "150px",
    "width": "301px"
   },
   "toc_section_display": true,
   "toc_window_display": true
  }
 },
 "nbformat": 4,
 "nbformat_minor": 2
}
