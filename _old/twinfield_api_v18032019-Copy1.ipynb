{
 "cells": [
  {
   "cell_type": "markdown",
   "metadata": {},
   "source": [
    "<img src=\"https://static.wixstatic.com/media/a9ca5e_825bd4d39e7d468faf735b801fa3dea4~mv2.png/v1/fill/w_1458,h_246,al_c,usm_0.66_1.00_0.01/a9ca5e_825bd4d39e7d468faf735b801fa3dea4~mv2.png\" width=\"200\">"
   ]
  },
  {
   "cell_type": "markdown",
   "metadata": {},
   "source": [
    "# Twinfield api\n",
    " __Notebook voor het uitvragen van twinfield dataset__\n",
    " \n",
    " __Auteur:__ Melvin Folkers (Yellow Stacks B.V.)<br>\n",
    " __Versie:__ 29 januari 2018<br>\n",
    " __Doel:__ "
   ]
  },
  {
   "cell_type": "markdown",
   "metadata": {
    "toc": true
   },
   "source": [
    "<h1>Overzicht<span class=\"tocSkip\"></span></h1>\n",
    "<div class=\"toc\"><ul class=\"toc-item\"><li><span><a href=\"#parameters\" data-toc-modified-id=\"parameters-1\"><span class=\"toc-item-num\">1&nbsp;&nbsp;</span>parameters</a></span><ul class=\"toc-item\"><li><span><a href=\"#run-parameters\" data-toc-modified-id=\"run-parameters-1.1\"><span class=\"toc-item-num\">1.1&nbsp;&nbsp;</span>run parameters</a></span></li><li><span><a href=\"#import-libraries\" data-toc-modified-id=\"import-libraries-1.2\"><span class=\"toc-item-num\">1.2&nbsp;&nbsp;</span>import libraries</a></span></li><li><span><a href=\"#juno-settings\" data-toc-modified-id=\"juno-settings-1.3\"><span class=\"toc-item-num\">1.3&nbsp;&nbsp;</span>juno settings</a></span></li></ul></li><li><span><a href=\"#functions\" data-toc-modified-id=\"functions-2\"><span class=\"toc-item-num\">2&nbsp;&nbsp;</span>functions</a></span></li><li><span><a href=\"#session-ID-Twinfield\" data-toc-modified-id=\"session-ID-Twinfield-3\"><span class=\"toc-item-num\">3&nbsp;&nbsp;</span>session ID Twinfield</a></span></li><li><span><a href=\"#Determine-offices\" data-toc-modified-id=\"Determine-offices-4\"><span class=\"toc-item-num\">4&nbsp;&nbsp;</span>Determine offices</a></span><ul class=\"toc-item\"><li><span><a href=\"#select-office\" data-toc-modified-id=\"select-office-4.1\"><span class=\"toc-item-num\">4.1&nbsp;&nbsp;</span>select office</a></span></li></ul></li><li><span><a href=\"#Browse-data\" data-toc-modified-id=\"Browse-data-5\"><span class=\"toc-item-num\">5&nbsp;&nbsp;</span>Browse data</a></span><ul class=\"toc-item\"><li><span><a href=\"#Metadata\" data-toc-modified-id=\"Metadata-5.1\"><span class=\"toc-item-num\">5.1&nbsp;&nbsp;</span>Metadata</a></span></li><li><span><a href=\"#Data\" data-toc-modified-id=\"Data-5.2\"><span class=\"toc-item-num\">5.2&nbsp;&nbsp;</span>Data</a></span></li></ul></li></ul></div>"
   ]
  },
  {
   "cell_type": "markdown",
   "metadata": {},
   "source": [
    "## parameters"
   ]
  },
  {
   "cell_type": "markdown",
   "metadata": {},
   "source": [
    "### run parameters"
   ]
  },
  {
   "cell_type": "code",
   "execution_count": 1,
   "metadata": {
    "ExecuteTime": {
     "end_time": "2019-03-18T11:12:30.224433Z",
     "start_time": "2019-03-18T11:12:30.219779Z"
    }
   },
   "outputs": [],
   "source": [
    "user = 'Python'\n",
    "password = 'U3RhZmZpbmcyMDE5IQ==\\n'\n",
    "organisation = 'Associates'"
   ]
  },
  {
   "cell_type": "markdown",
   "metadata": {
    "heading_collapsed": true
   },
   "source": [
    "### import libraries"
   ]
  },
  {
   "cell_type": "code",
   "execution_count": 2,
   "metadata": {
    "ExecuteTime": {
     "end_time": "2019-03-18T11:12:30.769506Z",
     "start_time": "2019-03-18T11:12:30.226333Z"
    },
    "hidden": true
   },
   "outputs": [],
   "source": [
    "import os \n",
    "import pandas as pd \n",
    "import xml.etree.ElementTree as ET\n",
    "import math\n",
    "from datetime import date, timedelta\n",
    "import numpy as np\n",
    "import codecs\n",
    "import requests"
   ]
  },
  {
   "cell_type": "code",
   "execution_count": 3,
   "metadata": {
    "ExecuteTime": {
     "end_time": "2019-03-18T11:12:30.777093Z",
     "start_time": "2019-03-18T11:12:30.771204Z"
    },
    "hidden": true
   },
   "outputs": [],
   "source": [
    "projectdir = os.getcwd()\n",
    "os.chdir('scripts')\n",
    "\n",
    "import functions\n",
    "\n",
    "os.chdir(projectdir)"
   ]
  },
  {
   "cell_type": "markdown",
   "metadata": {
    "heading_collapsed": true
   },
   "source": [
    "### juno settings"
   ]
  },
  {
   "cell_type": "code",
   "execution_count": 4,
   "metadata": {
    "ExecuteTime": {
     "end_time": "2019-03-18T11:12:30.952062Z",
     "start_time": "2019-03-18T11:12:30.779326Z"
    },
    "hidden": true
   },
   "outputs": [
    {
     "data": {
      "text/html": [
       "<style>.container { width:80% !important; }</style>"
      ],
      "text/plain": [
       "<IPython.core.display.HTML object>"
      ]
     },
     "metadata": {},
     "output_type": "display_data"
    }
   ],
   "source": [
    "from IPython.core.display import display, HTML\n",
    "display(HTML(\"<style>.container { width:80% !important; }</style>\")) # maakt de jupyter notebook cellen 100% breed\n",
    "from IPython.display import IFrame\n",
    "%matplotlib inline \n",
    "# voor het plotten van grafieken\n",
    "\n",
    "from IPython.core.interactiveshell import InteractiveShell\n",
    "InteractiveShell.ast_node_interactivity = \"all\" # om meerdere grafieken/tabellen in 1 cel te kunnen laten zien.\n",
    "\n",
    "pd.options.display.max_columns = None # laat alle kolommen zien\n",
    "pd.options.display.float_format = '{:,.2f}'.format\n",
    "\n",
    "from IPython.display import Image\n",
    "from IPython.core.display import HTML \n",
    "\n"
   ]
  },
  {
   "cell_type": "markdown",
   "metadata": {},
   "source": [
    "## functions"
   ]
  },
  {
   "cell_type": "markdown",
   "metadata": {},
   "source": [
    "## session ID Twinfield"
   ]
  },
  {
   "cell_type": "code",
   "execution_count": 5,
   "metadata": {
    "ExecuteTime": {
     "end_time": "2019-03-18T11:12:31.517160Z",
     "start_time": "2019-03-18T11:12:30.954035Z"
    }
   },
   "outputs": [],
   "source": [
    "login = functions.SessionParameters(user, password, organisation)"
   ]
  },
  {
   "cell_type": "code",
   "execution_count": 6,
   "metadata": {
    "ExecuteTime": {
     "end_time": "2019-03-18T11:12:31.522383Z",
     "start_time": "2019-03-18T11:12:31.519054Z"
    }
   },
   "outputs": [
    {
     "name": "stdout",
     "output_type": "stream",
     "text": [
      "session id: f9050cff-bffa-4972-875b-23cc729ff20d\n"
     ]
    }
   ],
   "source": [
    "print(f'session id: {login.session_id}')"
   ]
  },
  {
   "cell_type": "markdown",
   "metadata": {},
   "source": [
    "## Determine offices"
   ]
  },
  {
   "cell_type": "code",
   "execution_count": 9,
   "metadata": {
    "ExecuteTime": {
     "end_time": "2019-03-18T11:13:15.884107Z",
     "start_time": "2019-03-18T11:13:15.657453Z"
    }
   },
   "outputs": [],
   "source": [
    "offices = functions.get_offices(login)"
   ]
  },
  {
   "cell_type": "markdown",
   "metadata": {},
   "source": [
    "### select office"
   ]
  },
  {
   "cell_type": "code",
   "execution_count": null,
   "metadata": {
    "ExecuteTime": {
     "end_time": "2019-03-18T11:12:32.203680Z",
     "start_time": "2019-03-18T11:12:30.234Z"
    }
   },
   "outputs": [],
   "source": [
    "office = '1060266'\n",
    "code = '030_1'"
   ]
  },
  {
   "cell_type": "code",
   "execution_count": null,
   "metadata": {
    "ExecuteTime": {
     "end_time": "2019-03-18T11:12:32.205300Z",
     "start_time": "2019-03-18T11:12:30.237Z"
    }
   },
   "outputs": [],
   "source": [
    "functions.select_office(office, session_id)"
   ]
  },
  {
   "cell_type": "markdown",
   "metadata": {},
   "source": [
    "## Browse data"
   ]
  },
  {
   "cell_type": "markdown",
   "metadata": {},
   "source": [
    "### Metadata "
   ]
  },
  {
   "cell_type": "code",
   "execution_count": null,
   "metadata": {
    "ExecuteTime": {
     "end_time": "2019-03-18T11:12:32.206633Z",
     "start_time": "2019-03-18T11:12:30.239Z"
    }
   },
   "outputs": [],
   "source": [
    "metadata = functions.get_metadata(office = office, code = code, session_id= session_id)"
   ]
  },
  {
   "cell_type": "code",
   "execution_count": null,
   "metadata": {
    "ExecuteTime": {
     "end_time": "2019-03-18T11:12:32.207551Z",
     "start_time": "2019-03-18T11:12:30.241Z"
    }
   },
   "outputs": [],
   "source": [
    "#metadata = metadata[(['field', 'label'])]"
   ]
  },
  {
   "cell_type": "code",
   "execution_count": null,
   "metadata": {
    "ExecuteTime": {
     "end_time": "2019-03-18T11:12:32.208864Z",
     "start_time": "2019-03-18T11:12:30.242Z"
    }
   },
   "outputs": [],
   "source": [
    "metadata.set_index('field', inplace = True)\n",
    "\n",
    "fieldmapping = metadata[ 'label'].to_dict()"
   ]
  },
  {
   "cell_type": "code",
   "execution_count": null,
   "metadata": {
    "ExecuteTime": {
     "end_time": "2019-03-18T11:12:32.210662Z",
     "start_time": "2019-03-18T11:12:30.244Z"
    }
   },
   "outputs": [],
   "source": [
    "metadata.head()"
   ]
  },
  {
   "cell_type": "markdown",
   "metadata": {
    "heading_collapsed": true
   },
   "source": [
    "### Data"
   ]
  },
  {
   "cell_type": "code",
   "execution_count": null,
   "metadata": {
    "ExecuteTime": {
     "end_time": "2019-03-18T11:12:32.212372Z",
     "start_time": "2019-03-18T11:12:30.246Z"
    },
    "hidden": true
   },
   "outputs": [],
   "source": [
    "def get_data(office,session_id, code):\n",
    "    \n",
    "    xml = f'''<read>\n",
    "    <type>browse</type>\n",
    "    <office>{office}</office>\n",
    "    <code>{code}</code>\n",
    "    </read>'''\n",
    "    \n",
    "    body = f'''<?xml version=\"1.0\" encoding=\"utf-8\"?>\n",
    "        <soapenv:Envelope xmlns:soapenv=\"http://schemas.xmlsoap.org/soap/envelope/\" xmlns:twin=\"http://www.twinfield.com/\">\n",
    "        <soapenv:Header>\n",
    "            <twin:Header>\n",
    "            <twin:SessionID>{session_id}</twin:SessionID> \n",
    "              </twin:Header>\n",
    "           </soapenv:Header>\n",
    "           <soapenv:Body>\n",
    "              <twin:ProcessXmlString>\n",
    "                 <twin:xmlRequest><![CDATA[{xml}]]></twin:xmlRequest>\n",
    "              </twin:ProcessXmlString>\n",
    "           </soapenv:Body>\n",
    "        </soapenv:Envelope>'''\n",
    "    \n",
    "    response = requests.post(url = auth.url, headers = auth.header , data = body)\n",
    "\n",
    "    root = ET.fromstring(response.text)\n",
    "\n",
    "    body = root.find('env:Body', auth.ns)\n",
    "\n",
    "    data = body.find('tw:ProcessXmlStringResponse/tw:ProcessXmlStringResult', auth.ns)\n",
    "\n",
    "    #data = ET.fromstring(data.text)\n",
    "    \n",
    "    return data\n",
    "\n",
    "\n",
    "def parse_data_response(data):\n",
    "    \n",
    "    \n",
    "    col = data.find('columns')\n",
    "    \n",
    "    rec = list()\n",
    "\n",
    "    for records in col:\n",
    "      \n",
    "        ttl = dict()\n",
    "        for record in records:\n",
    "            ttl[record.tag] = record.text\n",
    "\n",
    "        rec.append(ttl)\n",
    "\n",
    "    df = pd.DataFrame(rec)\n",
    "    \n",
    "    return df\n",
    "    "
   ]
  },
  {
   "cell_type": "code",
   "execution_count": null,
   "metadata": {
    "ExecuteTime": {
     "end_time": "2019-03-18T11:12:32.214322Z",
     "start_time": "2019-03-18T11:12:30.248Z"
    },
    "hidden": true
   },
   "outputs": [],
   "source": [
    "#data = get_data(office, session_id, code)"
   ]
  },
  {
   "cell_type": "markdown",
   "metadata": {},
   "source": [
    "# Development"
   ]
  },
  {
   "cell_type": "code",
   "execution_count": null,
   "metadata": {
    "ExecuteTime": {
     "end_time": "2019-03-18T11:12:32.215992Z",
     "start_time": "2019-03-18T11:12:30.250Z"
    }
   },
   "outputs": [],
   "source": [
    "code = '030_1'\n",
    "period = '2019'"
   ]
  },
  {
   "cell_type": "code",
   "execution_count": null,
   "metadata": {
    "ExecuteTime": {
     "end_time": "2019-03-18T11:12:32.218753Z",
     "start_time": "2019-03-18T11:12:30.252Z"
    }
   },
   "outputs": [],
   "source": [
    "fields.M030_1()"
   ]
  },
  {
   "cell_type": "code",
   "execution_count": null,
   "metadata": {
    "ExecuteTime": {
     "end_time": "2019-03-18T11:12:32.219686Z",
     "start_time": "2019-03-18T11:12:30.254Z"
    }
   },
   "outputs": [],
   "source": [
    "response = requests.post(url = auth.url, headers = auth.header , data = body)\n",
    "root = ET.fromstring(response.text)\n",
    "body = root.find('env:Body', auth.ns)\n",
    "data = body.find('tw:ProcessXmlDocumentResponse/tw:ProcessXmlDocumentResult', auth.ns)"
   ]
  },
  {
   "cell_type": "code",
   "execution_count": null,
   "metadata": {
    "ExecuteTime": {
     "end_time": "2019-03-18T11:12:32.222019Z",
     "start_time": "2019-03-18T11:12:30.256Z"
    }
   },
   "outputs": [],
   "source": [
    "test = data.find('browse')\n",
    "tr = test.findall('tr')"
   ]
  },
  {
   "cell_type": "code",
   "execution_count": null,
   "metadata": {
    "ExecuteTime": {
     "end_time": "2019-03-18T11:12:32.223702Z",
     "start_time": "2019-03-18T11:12:30.257Z"
    }
   },
   "outputs": [],
   "source": [
    "ttl_records = list() \n",
    "\n",
    "for trans in tr:\n",
    "    \n",
    "    info = dict()\n",
    "    \n",
    "    for col in trans:\n",
    "        \n",
    "        val = col.text\n",
    "        \n",
    "        if 'field' in  col.attrib.keys():\n",
    "            name = col.attrib['field']\n",
    "\n",
    "            info[name] = val\n",
    "    \n",
    "    ttl_records.append(info)"
   ]
  },
  {
   "cell_type": "code",
   "execution_count": null,
   "metadata": {
    "ExecuteTime": {
     "end_time": "2019-03-18T11:12:32.225063Z",
     "start_time": "2019-03-18T11:12:30.259Z"
    }
   },
   "outputs": [],
   "source": [
    "data = pd.DataFrame(ttl_records)"
   ]
  },
  {
   "cell_type": "code",
   "execution_count": null,
   "metadata": {
    "ExecuteTime": {
     "end_time": "2019-03-18T11:12:32.226446Z",
     "start_time": "2019-03-18T11:12:30.261Z"
    }
   },
   "outputs": [],
   "source": [
    "data.shape"
   ]
  },
  {
   "cell_type": "code",
   "execution_count": null,
   "metadata": {
    "ExecuteTime": {
     "end_time": "2019-03-18T11:12:32.227666Z",
     "start_time": "2019-03-18T11:12:30.263Z"
    }
   },
   "outputs": [],
   "source": [
    "data.rename(fieldmapping, axis = 1, inplace = True)"
   ]
  },
  {
   "cell_type": "code",
   "execution_count": null,
   "metadata": {
    "ExecuteTime": {
     "end_time": "2019-03-18T11:12:32.229308Z",
     "start_time": "2019-03-18T11:12:30.264Z"
    }
   },
   "outputs": [],
   "source": [
    "#data.dropna(axis = 1, inplace = True)"
   ]
  },
  {
   "cell_type": "code",
   "execution_count": null,
   "metadata": {},
   "outputs": [],
   "source": []
  }
 ],
 "metadata": {
  "kernelspec": {
   "display_name": "Python 3",
   "language": "python",
   "name": "python3"
  },
  "language_info": {
   "codemirror_mode": {
    "name": "ipython",
    "version": 3
   },
   "file_extension": ".py",
   "mimetype": "text/x-python",
   "name": "python",
   "nbconvert_exporter": "python",
   "pygments_lexer": "ipython3",
   "version": "3.6.5"
  },
  "toc": {
   "base_numbering": 1,
   "nav_menu": {},
   "number_sections": true,
   "sideBar": true,
   "skip_h1_title": true,
   "title_cell": "Overzicht",
   "title_sidebar": "Stappen",
   "toc_cell": true,
   "toc_position": {
    "height": "calc(100% - 180px)",
    "left": "10px",
    "top": "150px",
    "width": "301px"
   },
   "toc_section_display": true,
   "toc_window_display": true
  }
 },
 "nbformat": 4,
 "nbformat_minor": 2
}
