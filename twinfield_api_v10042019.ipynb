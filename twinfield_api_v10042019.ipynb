{
 "cells": [
  {
   "cell_type": "markdown",
   "metadata": {},
   "source": [
    "<img src=\"https://static.wixstatic.com/media/a9ca5e_825bd4d39e7d468faf735b801fa3dea4~mv2.png/v1/fill/w_1458,h_246,al_c,usm_0.66_1.00_0.01/a9ca5e_825bd4d39e7d468faf735b801fa3dea4~mv2.png\" width=\"200\">"
   ]
  },
  {
   "cell_type": "markdown",
   "metadata": {},
   "source": [
    "# Twinfield api\n",
    " __Notebook voor het uitvragen van twinfield dataset__\n",
    " \n",
    " __Auteur:__ Melvin Folkers (Yellow Stacks B.V.)<br>\n",
    " __Doel:__ "
   ]
  },
  {
   "cell_type": "markdown",
   "metadata": {
    "toc": true
   },
   "source": [
    "<h1>Overzicht<span class=\"tocSkip\"></span></h1>\n",
    "<div class=\"toc\"><ul class=\"toc-item\"><li><span><a href=\"#parameters\" data-toc-modified-id=\"parameters-1\"><span class=\"toc-item-num\">1&nbsp;&nbsp;</span>parameters</a></span><ul class=\"toc-item\"><li><span><a href=\"#run-parameters\" data-toc-modified-id=\"run-parameters-1.1\"><span class=\"toc-item-num\">1.1&nbsp;&nbsp;</span>run parameters</a></span></li><li><span><a href=\"#import-libraries\" data-toc-modified-id=\"import-libraries-1.2\"><span class=\"toc-item-num\">1.2&nbsp;&nbsp;</span>import libraries</a></span></li><li><span><a href=\"#juno-settings\" data-toc-modified-id=\"juno-settings-1.3\"><span class=\"toc-item-num\">1.3&nbsp;&nbsp;</span>juno settings</a></span></li><li><span><a href=\"#functions\" data-toc-modified-id=\"functions-1.4\"><span class=\"toc-item-num\">1.4&nbsp;&nbsp;</span>functions</a></span></li></ul></li><li><span><a href=\"#Run-script\" data-toc-modified-id=\"Run-script-2\"><span class=\"toc-item-num\">2&nbsp;&nbsp;</span>Run script</a></span></li><li><span><a href=\"#Export\" data-toc-modified-id=\"Export-3\"><span class=\"toc-item-num\">3&nbsp;&nbsp;</span>Export</a></span></li></ul></div>"
   ]
  },
  {
   "cell_type": "markdown",
   "metadata": {},
   "source": [
    "## parameters"
   ]
  },
  {
   "cell_type": "markdown",
   "metadata": {},
   "source": [
    "### run parameters"
   ]
  },
  {
   "cell_type": "code",
   "execution_count": 1,
   "metadata": {
    "ExecuteTime": {
     "end_time": "2019-04-10T14:04:03.124761Z",
     "start_time": "2019-04-10T14:04:03.121003Z"
    }
   },
   "outputs": [],
   "source": [
    "user = 'Python'\n",
    "password = 'U3RhZmZpbmcyMDE5IQ==\\n'\n",
    "organisation = 'Associates'"
   ]
  },
  {
   "cell_type": "markdown",
   "metadata": {},
   "source": [
    "### import libraries"
   ]
  },
  {
   "cell_type": "code",
   "execution_count": 2,
   "metadata": {
    "ExecuteTime": {
     "end_time": "2019-04-10T14:04:03.938931Z",
     "start_time": "2019-04-10T14:04:03.127387Z"
    }
   },
   "outputs": [],
   "source": [
    "import os\n",
    "import pandas as pd"
   ]
  },
  {
   "cell_type": "code",
   "execution_count": 3,
   "metadata": {
    "ExecuteTime": {
     "end_time": "2019-04-10T14:04:04.175861Z",
     "start_time": "2019-04-10T14:04:03.941066Z"
    }
   },
   "outputs": [],
   "source": [
    "projectdir = os.getcwd()\n",
    "os.chdir('scripts')\n",
    "\n",
    "from  functions import SessionParameters\n",
    "from modules import read_offices\n",
    "from pull_data import pull_transactions\n",
    "\n",
    "os.chdir(projectdir)"
   ]
  },
  {
   "cell_type": "markdown",
   "metadata": {},
   "source": [
    "### juno settings"
   ]
  },
  {
   "cell_type": "code",
   "execution_count": 4,
   "metadata": {
    "ExecuteTime": {
     "end_time": "2019-04-10T14:04:04.424634Z",
     "start_time": "2019-04-10T14:04:04.178172Z"
    }
   },
   "outputs": [
    {
     "data": {
      "text/html": [
       "<style>.container { width:80% !important; }</style>"
      ],
      "text/plain": [
       "<IPython.core.display.HTML object>"
      ]
     },
     "metadata": {},
     "output_type": "display_data"
    }
   ],
   "source": [
    "from IPython.core.display import display, HTML\n",
    "display(HTML(\"<style>.container { width:80% !important; }</style>\")) # maakt de jupyter notebook cellen 100% breed\n",
    "from IPython.display import IFrame\n",
    "%matplotlib inline \n",
    "# voor het plotten van grafieken\n",
    "\n",
    "from IPython.core.interactiveshell import InteractiveShell\n",
    "InteractiveShell.ast_node_interactivity = \"all\" # om meerdere grafieken/tabellen in 1 cel te kunnen laten zien.\n",
    "\n",
    "pd.options.display.max_columns = None # laat alle kolommen zien\n",
    "pd.options.display.float_format = '{:,.2f}'.format\n",
    "\n",
    "from IPython.display import Image\n",
    "from IPython.core.display import HTML \n",
    "\n"
   ]
  },
  {
   "cell_type": "markdown",
   "metadata": {},
   "source": [
    "### functions"
   ]
  },
  {
   "cell_type": "code",
   "execution_count": 29,
   "metadata": {
    "ExecuteTime": {
     "end_time": "2019-04-10T15:08:42.068143Z",
     "start_time": "2019-04-10T15:08:42.065490Z"
    }
   },
   "outputs": [],
   "source": []
  },
  {
   "cell_type": "code",
   "execution_count": 30,
   "metadata": {
    "ExecuteTime": {
     "end_time": "2019-04-10T15:08:47.426591Z",
     "start_time": "2019-04-10T15:08:47.423726Z"
    }
   },
   "outputs": [],
   "source": [
    "from datetime import datetime"
   ]
  },
  {
   "cell_type": "code",
   "execution_count": 31,
   "metadata": {
    "ExecuteTime": {
     "end_time": "2019-04-10T15:08:52.349402Z",
     "start_time": "2019-04-10T15:08:52.345141Z"
    }
   },
   "outputs": [
    {
     "name": "stdout",
     "output_type": "stream",
     "text": [
      "\n",
      "Time elasped:  0:00:10.279771\n"
     ]
    }
   ],
   "source": [
    "print('\\nTime elasped: ', )"
   ]
  },
  {
   "cell_type": "markdown",
   "metadata": {},
   "source": [
    "## Run script"
   ]
  },
  {
   "cell_type": "code",
   "execution_count": 5,
   "metadata": {
    "ExecuteTime": {
     "end_time": "2019-04-10T14:04:25.444879Z",
     "start_time": "2019-04-10T14:04:04.426771Z"
    }
   },
   "outputs": [
    {
     "name": "stdout",
     "output_type": "stream",
     "text": [
      "session id: 856da2ba-fb3b-4095-84fc-ffdf9a712bc7\n",
      "selecting office: {office}...\n",
      "Ok !\n"
     ]
    }
   ],
   "source": [
    "login = SessionParameters(user ='Python', pw = r'U3RhZmZpbmcyMDE5IQ==\\n', organisation = 'Associates')\n",
    "\n",
    "offices = read_offices(login)\n",
    "offices = offices.head(n=1)\n",
    "trans = pull_transactions(offices,login)"
   ]
  },
  {
   "cell_type": "code",
   "execution_count": 7,
   "metadata": {
    "ExecuteTime": {
     "end_time": "2019-04-10T14:05:26.290504Z",
     "start_time": "2019-04-10T14:05:26.286960Z"
    }
   },
   "outputs": [
    {
     "data": {
      "text/plain": [
       "(28763, 39)"
      ]
     },
     "execution_count": 7,
     "metadata": {},
     "output_type": "execute_result"
    }
   ],
   "source": [
    "trans.shape"
   ]
  },
  {
   "cell_type": "markdown",
   "metadata": {},
   "source": [
    "## Export"
   ]
  },
  {
   "cell_type": "code",
   "execution_count": 9,
   "metadata": {
    "ExecuteTime": {
     "end_time": "2019-04-10T14:06:03.825087Z",
     "start_time": "2019-04-10T14:06:03.822241Z"
    }
   },
   "outputs": [],
   "source": [
    "dummy = trans.head(n=0)"
   ]
  },
  {
   "cell_type": "code",
   "execution_count": null,
   "metadata": {},
   "outputs": [],
   "source": [
    "trans"
   ]
  }
 ],
 "metadata": {
  "kernelspec": {
   "display_name": "Python 3",
   "language": "python",
   "name": "python3"
  },
  "language_info": {
   "codemirror_mode": {
    "name": "ipython",
    "version": 3
   },
   "file_extension": ".py",
   "mimetype": "text/x-python",
   "name": "python",
   "nbconvert_exporter": "python",
   "pygments_lexer": "ipython3",
   "version": "3.6.5"
  },
  "toc": {
   "base_numbering": 1,
   "nav_menu": {},
   "number_sections": true,
   "sideBar": true,
   "skip_h1_title": true,
   "title_cell": "Overzicht",
   "title_sidebar": "Stappen",
   "toc_cell": true,
   "toc_position": {
    "height": "calc(100% - 180px)",
    "left": "10px",
    "top": "150px",
    "width": "301px"
   },
   "toc_section_display": true,
   "toc_window_display": true
  }
 },
 "nbformat": 4,
 "nbformat_minor": 2
}
